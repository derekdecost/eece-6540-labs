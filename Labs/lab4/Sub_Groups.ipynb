{
 "cells": [
  {
   "cell_type": "markdown",
   "metadata": {
    "tags": []
   },
   "source": [
    "# Subgroups\n",
    "## Based on Intel training module, revised for EECE.4510/5510 Labs\n",
    "##### by Prof. Yan Luo. June 12, 2023."
   ]
  },
  {
   "cell_type": "markdown",
   "metadata": {},
   "source": [
    "##### Sections\n",
    "- [What are Subgroups?](#What-are-Subgroups?)\n",
    "- [How a Subgroup Maps to Graphics Hardware](#How-a-Subgroup-Maps-to-Graphics-Hardware)\n",
    "- _Code:_ [Subgroup info](#Subgroup-info)\n",
    "- _Code:_ [Subgroup Size](#Subgroup-Size)\n",
    "- [Subgroup Functions and Algorithms](#Subgroup-Functions-and-Algorithms)\n",
    "- _Code:_ [Subgroup Shuffle](#Subgroup-Shuffle)\n",
    "- _Code:_ [Subgroup - Reduce](#Code-Example:-Subgroup---Reduce)\n",
    "- _Code:_ [Subgroup - Broadcast](#Code-Example:-Subgroup---Broadcast)\n",
    "- _Code:_ [Subgroup - Votes](#Code-Example:-Subgroup---Votes)\n",
    "- _Lab Exercise:_ [Sub-Groups](#Lab-Exercise:-Sub-Groups)"
   ]
  },
  {
   "cell_type": "markdown",
   "metadata": {},
   "source": [
    "## Learning Objectives"
   ]
  },
  {
   "cell_type": "markdown",
   "metadata": {},
   "source": [
    "- Understand advantages of using Subgroups in SYCL\n",
    "- Take advantage of Subgroup algorithms for performance and productivity\n",
    "- Use Subgroup Shuffle operations to avoid explicit memory operations"
   ]
  },
  {
   "cell_type": "markdown",
   "metadata": {},
   "source": [
    "## What are Subgroups?"
   ]
  },
  {
   "cell_type": "markdown",
   "metadata": {},
   "source": [
    "On many modern hardware platforms, __a subset of the work-items in a work-group__ are executed simultaneously or with additional scheduling guarantees. These subset of work-items are called subgroups. Leveraging subgroups will help to __map execution to low-level hardware__ and may help in achieving higher performance."
   ]
  },
  {
   "cell_type": "markdown",
   "metadata": {},
   "source": [
    "## Subgroups in ND-Range Kernel Execution"
   ]
  },
  {
   "cell_type": "markdown",
   "metadata": {},
   "source": [
    "Parallel execution with the ND_RANGE Kernel helps to group work items that map to hardware resources. This helps to __tune applications for performance__.\n",
    "\n",
    "The execution range of an ND-range kernel is divided into __work-groups__, __subgroups__ and __work-items__ as shown in picture below."
   ]
  },
  {
   "cell_type": "markdown",
   "metadata": {},
   "source": [
    "![ND-range kernel execution](assets/ndrange.png)"
   ]
  },
  {
   "cell_type": "markdown",
   "metadata": {},
   "source": [
    "## How a Subgroup Maps to Graphics Hardware"
   ]
  },
  {
   "cell_type": "markdown",
   "metadata": {},
   "source": [
    "| | |\n",
    "|:---:|:---|\n",
    "| __Work-item__ | Represents the individual instances of a kernel function. | \n",
    "| __Work-group__ | The entire iteration space is divided into smaller groups called work-groups, work-items within a work-group are scheduled on a single compute unit on hardware. | \n",
    "| __Subgroup__ | A subset of work-items within a work-group that are executed simultaneously, may be mapped to vector hardware. | \n"
   ]
  },
  {
   "cell_type": "markdown",
   "metadata": {},
   "source": [
    "The picture below shows how work-groups and subgroups map to __Intel® Gen11 Graphics Hardware__."
   ]
  },
  {
   "cell_type": "markdown",
   "metadata": {},
   "source": [
    "![ND-Range Hardware Mapping](assets/hwmapping.png)"
   ]
  },
  {
   "cell_type": "markdown",
   "metadata": {},
   "source": [
    "## Why use Subgroups?"
   ]
  },
  {
   "cell_type": "markdown",
   "metadata": {},
   "source": [
    "- Work-items in a sub-group can __communicate directly using shuffle operations__, without explicit memory operations.\n",
    "- Work-items in a sub-group can synchronize using sub-group barriers and __guarantee memory consistency__ using sub-group memory fences.\n",
    "- Work-items in a sub-group have access to __sub-group functions and algorithms__, providing fast implementations of common parallel patterns."
   ]
  },
  {
   "cell_type": "markdown",
   "metadata": {},
   "source": [
    "## sub_group class"
   ]
  },
  {
   "cell_type": "markdown",
   "metadata": {},
   "source": [
    "The subgroup handle can be obtained from the nd_item using the __get_sub_group()__"
   ]
  },
  {
   "cell_type": "markdown",
   "metadata": {},
   "source": [
    "```cpp\n",
    "        sycl::sub_group sg = nd_item.get_sub_group();\n",
    "\n",
    "                 OR\n",
    "\n",
    "        auto sg = nd_item.get_sub_group();\n",
    "```"
   ]
  },
  {
   "cell_type": "markdown",
   "metadata": {},
   "source": [
    "Once you have the subgroup handle, you can query for more information about the subgroup, do shuffle operations or use group algorithm."
   ]
  },
  {
   "cell_type": "markdown",
   "metadata": {},
   "source": [
    "## Subgroup info"
   ]
  },
  {
   "cell_type": "markdown",
   "metadata": {},
   "source": [
    "The subgroup handle can be queried to get other information like number of work-items in subgroup, or number of subgroups in a work-group which will be needed for developers to implement kernel code using subgroups:\n",
    "- __get_local_id()__ returns the index of the work-item within its subgroup\n",
    "- __get_local_range()__ returns the size of sub_group \n",
    "- __get_group_id()__ returns the index of the subgroup\n",
    "- __get_group_range()__ returns the number of subgroups within the parent work-group\n",
    "\n",
    "\n",
    "```cpp\n",
    "    h.parallel_for(nd_range<1>(64,64), [=](nd_item<1> item){\n",
    "      /* get sub_group handle */\n",
    "      auto sg = item.get_sub_group();\n",
    "      /* query sub_group and print sub_group info once per sub_group */\n",
    "      if(sg.get_local_id()[0] == 0){\n",
    "        out << \"sub_group id: \" << sg.get_group_id()[0]\n",
    "            << \" of \" << sg.get_group_range()[0]\n",
    "            << \", size=\" << sg.get_local_range()[0] \n",
    "            << \"\\n\";\n",
    "      }\n",
    "    });\n",
    "```"
   ]
  },
  {
   "cell_type": "markdown",
   "metadata": {},
   "source": [
    "### Code Example: Subgroup Info"
   ]
  },
  {
   "cell_type": "markdown",
   "metadata": {},
   "source": [
    "The SYCL code below demonstrates subgroup query methods to print sub-group info: Inspect code, there are no modifications necessary:\n",
    "1. Inspect the code cell below and click run ▶ to save the code to file\n",
    "2. Next run ▶ the cell in the __Build and Run__ section below the code to compile and execute the code."
   ]
  },
  {
   "cell_type": "code",
   "execution_count": 2,
   "metadata": {},
   "outputs": [
    {
     "name": "stdout",
     "output_type": "stream",
     "text": [
      "Overwriting lab/sub_group_info.cpp\n"
     ]
    }
   ],
   "source": [
    "%%writefile lab/sub_group_info.cpp\n",
    "//==============================================================\n",
    "// Copyright © Intel Corporation\n",
    "//\n",
    "// SPDX-License-Identifier: MIT\n",
    "// =============================================================\n",
    "#include <sycl/sycl.hpp>\n",
    "using namespace sycl;\n",
    "\n",
    "static constexpr size_t N = 64; // global size\n",
    "static constexpr size_t B = 64; // work-group size\n",
    "\n",
    "int main() {\n",
    "  queue q;\n",
    "  std::cout << \"Device : \" << q.get_device().get_info<info::device::name>() << \"\\n\";\n",
    "\n",
    "  q.submit([&](handler &h) {\n",
    "    //# setup sycl stream class to print standard output from device code\n",
    "    auto out = stream(1024, 768, h);\n",
    "\n",
    "    //# nd-range kernel\n",
    "    h.parallel_for(nd_range<1>(N, B), [=](nd_item<1> item) {\n",
    "      //# get sub_group handle\n",
    "      auto sg = item.get_sub_group();\n",
    "\n",
    "      //# query sub_group and print sub_group info once per sub_group\n",
    "      if (sg.get_local_id()[0] == 0) {\n",
    "        out << \"sub_group id: \" << sg.get_group_id()[0] << \" of \"\n",
    "            << sg.get_group_range()[0] << \", size=\" << sg.get_local_range()[0]\n",
    "            << \"\\n\";\n",
    "      }\n",
    "    });\n",
    "  }).wait();\n",
    "}"
   ]
  },
  {
   "cell_type": "markdown",
   "metadata": {},
   "source": [
    "#### Build and Run\n",
    "Select the cell below and click run ▶ to compile and execute the code:"
   ]
  },
  {
   "cell_type": "code",
   "execution_count": 3,
   "metadata": {},
   "outputs": [
    {
     "name": "stdout",
     "output_type": "stream",
     "text": [
      "Job has been submitted to Intel(R) DevCloud and will execute soon.\n",
      "\n",
      "Job ID                    Name             User            Time Use S Queue\n",
      "------------------------- ---------------- --------------- -------- - -----\n",
      "2323906.v-qsvr-1           ...ub-singleuser u193422         00:00:10 R jupyterhub     \n",
      "2323927.v-qsvr-1           ...group_info.sh u193422                0 Q batch          \n",
      "\n",
      "Waiting for Output ██████████████████████████████ Done⬇\n",
      "\n",
      "########################################################################\n",
      "#      Date:           Tue 20 Jun 2023 07:54:25 PM PDT\n",
      "#    Job ID:           2323927.v-qsvr-1.aidevcloud\n",
      "#      User:           u193422\n",
      "# Resources:           cput=75:00:00,neednodes=1:gpu:ppn=2,nodes=1:gpu:ppn=2,walltime=06:00:00\n",
      "########################################################################\n",
      "\n",
      "## u193422 is compiling SYCL_Essentials Module4 -- SYCL Sub Groups - 1 of 7 sub_group_info.cpp\n",
      "Device : Intel(R) UHD Graphics [0x9a60]\n",
      "sub_group id: 0 of 4, size=16\n",
      "sub_group id: 1 of 4, size=16\n",
      "sub_group id: 2 of 4, size=16\n",
      "sub_group id: 3 of 4, size=16\n",
      "\n",
      "########################################################################\n",
      "# End of output for job 2323927.v-qsvr-1.aidevcloud\n",
      "# Date: Tue 20 Jun 2023 07:54:37 PM PDT\n",
      "########################################################################\n",
      "\n",
      "Job Completed in 30 seconds.\n"
     ]
    }
   ],
   "source": [
    "! chmod 755 q; chmod 755 run_sub_group_info.sh; if [ -x \"$(command -v qsub)\" ]; then ./q run_sub_group_info.sh; else ./run_sub_group_info.sh; fi"
   ]
  },
  {
   "cell_type": "markdown",
   "metadata": {},
   "source": [
    "## Subgroup Size"
   ]
  },
  {
   "cell_type": "markdown",
   "metadata": {},
   "source": [
    "For tuning applications for performance, sub-group size may have to be set a specific value. For example, Intel(R) GPU supports sub-groups sizes of 8, 16 and 32; by default the compiler implementation will pick optimal sub-group size, but it can also be forced to use a specific value.\n",
    "\n",
    "The supported sub-group sizes for a GPU can be queried from device information as shown below:\n",
    "\n",
    "```cpp\n",
    "auto sg_sizes = q.get_device().get_info<info::device::sub_group_sizes>();\n",
    "                                                      ^\n",
    "```\n",
    "\n",
    "`reqd_sub_group_size(S)` allows setting a specific sub-group size to use for kernel execution, the specified value should be one of the supported sizes and must be a compile time constant value.\n",
    "\n",
    "```cpp\n",
    "    q.parallel_for(nd_range<1>(N, B), [=](nd_item<1> item)[[intel::reqd_sub_group_size(16)]] {\n",
    "                                                          ^\n",
    "        // Kernel Code\n",
    "        \n",
    "    }).wait();\n",
    "\n",
    "```"
   ]
  },
  {
   "cell_type": "markdown",
   "metadata": {},
   "source": [
    "### Code Example: Subgroup Size"
   ]
  },
  {
   "cell_type": "markdown",
   "metadata": {},
   "source": [
    "The code below shows how to query for supported sub-group sizes, and also how to set kernel to use a specific supported sub-group size.\n",
    "\n",
    "The SYCL code below demonstrates how to use reqd_sub_group_size() to let the kernel use a specified sub-group size, change the __`S = 32`__ to __16__ or __8__ to change sub_group sizes and check the output:\n",
    "\n",
    "1. Inspect the code cell below and click run ▶ to save the code to file.\n",
    "\n",
    "2. Next run ▶ the cell in the __Build and Run__ section below the code to compile and execute the code."
   ]
  },
  {
   "cell_type": "code",
   "execution_count": 8,
   "metadata": {},
   "outputs": [
    {
     "name": "stdout",
     "output_type": "stream",
     "text": [
      "Overwriting lab/sub_group_reqd_size.cpp\n"
     ]
    }
   ],
   "source": [
    "%%writefile lab/sub_group_reqd_size.cpp\n",
    "//==============================================================\n",
    "// Copyright © Intel Corporation\n",
    "//\n",
    "// SPDX-License-Identifier: MIT\n",
    "// =============================================================\n",
    "#include <sycl/sycl.hpp>\n",
    "using namespace sycl;\n",
    "\n",
    "static constexpr size_t N = 64; // global size\n",
    "static constexpr size_t B = 64; // work-group size\n",
    "\n",
    "int main() {\n",
    "  queue q;\n",
    "  std::cout << \"Device : \" << q.get_device().get_info<info::device::name>() << \"\\n\";\n",
    "\n",
    "  //# get all supported sub_group sizes and print\n",
    "  auto sg_sizes = q.get_device().get_info<info::device::sub_group_sizes>();\n",
    "  std::cout << \"Supported Sub-Group Sizes : \";\n",
    "  for (int i=0; i<sg_sizes.size(); i++) std::cout << sg_sizes[i] << \" \"; std::cout << \"\\n\";\n",
    "    \n",
    "  //# find out maximum supported sub_group size\n",
    "  auto max_sg_size = std::max_element(sg_sizes.begin(), sg_sizes.end());\n",
    "  std::cout << \"Max Sub-Group Size        : \" << max_sg_size[0] << \"\\n\";\n",
    "    \n",
    "  q.submit([&](handler &h) {\n",
    "    //# setup sycl stream class to print standard output from device code\n",
    "    auto out = stream(1024, 768, h);\n",
    "\n",
    "    //# nd-range kernel with user specified sub_group size\n",
    "    //# TODO: try changing to a different sub_group size\n",
    "    h.parallel_for(nd_range<1>(N, B), [=](nd_item<1> item)[[intel::reqd_sub_group_size(32)]] {\n",
    "      //# get sub_group handle\n",
    "      auto sg = item.get_sub_group();\n",
    "\n",
    "      //# query sub_group and print sub_group info once per sub_group\n",
    "      if (sg.get_local_id()[0] == 0) {\n",
    "        out << \"sub_group id: \" << sg.get_group_id()[0] << \" of \"\n",
    "            << sg.get_group_range()[0] << \", size=\" << sg.get_local_range()[0]\n",
    "            << \"\\n\";\n",
    "      }\n",
    "    });\n",
    "  }).wait();\n",
    "}"
   ]
  },
  {
   "cell_type": "markdown",
   "metadata": {},
   "source": [
    "#### Build and Run\n",
    "Select the cell below and click run ▶ to compile and execute the code:"
   ]
  },
  {
   "cell_type": "code",
   "execution_count": 9,
   "metadata": {},
   "outputs": [
    {
     "name": "stdout",
     "output_type": "stream",
     "text": [
      "Job has been submitted to Intel(R) DevCloud and will execute soon.\n",
      "\n",
      "Job ID                    Name             User            Time Use S Queue\n",
      "------------------------- ---------------- --------------- -------- - -----\n",
      "2323906.v-qsvr-1           ...ub-singleuser u193422         00:00:16 R jupyterhub     \n",
      "2323951.v-qsvr-1           ..._reqd_size.sh u193422                0 Q batch          \n",
      "\n",
      "Waiting for Output ██████████████████████████████ Done⬇\n",
      "\n",
      "########################################################################\n",
      "#      Date:           Tue 20 Jun 2023 08:10:37 PM PDT\n",
      "#    Job ID:           2323951.v-qsvr-1.aidevcloud\n",
      "#      User:           u193422\n",
      "# Resources:           cput=75:00:00,neednodes=1:gpu:ppn=2,nodes=1:gpu:ppn=2,walltime=06:00:00\n",
      "########################################################################\n",
      "\n",
      "## u193422 is compiling SYCL_Essentials Module4 -- SYCL Sub Groups - 2 of 7 sub_group_reqd_size.cpp\n",
      "Device : Intel(R) UHD Graphics [0x9a60]\n",
      "Supported Sub-Group Sizes : 8 16 32 \n",
      "Max Sub-Group Size        : 32\n",
      "sub_group id: 0 of 2, size=32\n",
      "sub_group id: 1 of 2, size=32\n",
      "\n",
      "########################################################################\n",
      "# End of output for job 2323951.v-qsvr-1.aidevcloud\n",
      "# Date: Tue 20 Jun 2023 08:10:58 PM PDT\n",
      "########################################################################\n",
      "\n",
      "Job Completed in 30 seconds.\n"
     ]
    }
   ],
   "source": [
    "! chmod 755 q; chmod 755 run_sub_group_reqd_size.sh; if [ -x \"$(command -v qsub)\" ]; then ./q run_sub_group_reqd_size.sh; else ./run_sub_group_reqd_size.sh; fi"
   ]
  },
  {
   "cell_type": "markdown",
   "metadata": {},
   "source": [
    "#### <font color='red'>Questions</font>\n",
    "1. On what processor did you code just ran? Please capture the screenshot.\n",
    "2. What changes in the output if you set the chosen sub_group size to be 16 or 32?"
   ]
  },
  {
   "cell_type": "markdown",
   "metadata": {},
   "source": [
    "## Subgroup Functions and Algorithms"
   ]
  },
  {
   "cell_type": "markdown",
   "metadata": {},
   "source": [
    "The sub-group functions and algorithms expose functionality tied to work-items within a sub-group.  \n",
    "\n",
    "Providing these implementations as library functions instead __increases developer productivity__ and gives implementations the ability to __generate highly optimized \n",
    "code__ for individual target devices.\n",
    "\n",
    "Below are some of the group algorithms available for sub-groups, they include useful functionalities to perform shuffles, reductions, scans and votes:\n",
    "\n",
    "- select_by_group\n",
    "- shift_group_left\n",
    "- shift_group_right\n",
    "- permute_group_by_xor\n",
    "- group_broadcast\n",
    "- reduce_over_group\n",
    "- exclusive_scan_over_group\n",
    "- inclusive_scan_over_group\n",
    "- any_of_group\n",
    "- all_of_group\n",
    "- none_of_group"
   ]
  },
  {
   "cell_type": "markdown",
   "metadata": {},
   "source": [
    "## Subgroup Shuffle"
   ]
  },
  {
   "cell_type": "markdown",
   "metadata": {},
   "source": [
    "One of the most useful features of subgroups is the ability to __communicate directly between individual work-items__ without explicit memory operations.\n",
    "\n",
    "Shuffle operations enable us to remove work-group local memory usage from our kernels and/or to __avoid unnecessary repeated accesses to global memory__.\n",
    "\n",
    "Below are the different types of shuffle operations available for sub-groups:\n",
    "- `select_by_group(sg, x, id)`\n",
    "- `shift_group_left(sg, x, delta)`\n",
    "- `shift_group_right(sg, x, delta)`\n",
    "- `permute_group_by_xor(sg, x, mask)`\n",
    "\n",
    "The code below uses `permute_group_by_xor` to swap the values of two work-items:\n",
    "\n",
    "```cpp\n",
    "    h.parallel_for(nd_range<1>(N,B), [=](nd_item<1> item){\n",
    "      auto sg = item.get_sub_group();\n",
    "      auto i = item.get_global_id(0);\n",
    "      /* Shuffles */\n",
    "      //data[i] = select_by_group(sg, data[i], 2);\n",
    "      //data[i] = shift_group_left(sg, data[i], 1);\n",
    "      //data[i] = shift_group_right(sg, data[i], 1);\n",
    "      data[i] = permute_group_by_xor(sg, data[i], 1);\n",
    "    });\n",
    "\n",
    "```\n",
    "\n",
    "<img src=\"assets/shuffle_xor.png\" alt=\"shuffle_xor\" width=\"300\"/>"
   ]
  },
  {
   "cell_type": "markdown",
   "metadata": {},
   "source": [
    "### Code Example: Subgroup Shuffle"
   ]
  },
  {
   "cell_type": "markdown",
   "metadata": {},
   "source": [
    "The code below uses subgroup shuffle to swap items in a subgroup. You can try other shuffle operations or change the fixed constant in the shuffle function to express some common communication patterns using `permute_group_by_xor`.\n",
    "\n",
    "The SYCL code below demonstrates sub-group shuffle operations, the code shows how `permute_group_by_xor` can be used to swap adjacent elements in sub-group, and also you can change the code to reverse the order of element in sub-group using a different mask.\n",
    "\n",
    "1. Inspect the code cell below and click run ▶ to save the code to file.\n",
    "\n",
    "2. Next run ▶ the cell in the __Build and Run__ section below the code to compile and execute the code."
   ]
  },
  {
   "cell_type": "code",
   "execution_count": 12,
   "metadata": {},
   "outputs": [
    {
     "name": "stdout",
     "output_type": "stream",
     "text": [
      "Overwriting lab/sub_group_shuffle.cpp\n"
     ]
    }
   ],
   "source": [
    "%%writefile lab/sub_group_shuffle.cpp\n",
    "//==============================================================\n",
    "// Copyright © Intel Corporation\n",
    "//\n",
    "// SPDX-License-Identifier: MIT\n",
    "// =============================================================\n",
    "#include <sycl/sycl.hpp>\n",
    "using namespace sycl;\n",
    "\n",
    "static constexpr size_t N = 256; // global size\n",
    "static constexpr size_t B = 64;  // work-group size\n",
    "\n",
    "int main() {\n",
    "  queue q;\n",
    "  std::cout << \"Device : \" << q.get_device().get_info<info::device::name>() << \"\\n\";\n",
    "\n",
    "  //# initialize data array using usm\n",
    "  int *data = malloc_shared<int>(N, q);\n",
    "  for (int i = 0; i < N; i++) data[i] = i;\n",
    "  for (int i = 0; i < N; i++) std::cout << data[i] << \" \";\n",
    "  std::cout << \"\\n\\n\";\n",
    "\n",
    "  q.parallel_for(nd_range<1>(N, B), [=](nd_item<1> item)[[intel::reqd_sub_group_size(8)]] {\n",
    "    auto sg = item.get_sub_group();\n",
    "    auto i = item.get_global_id(0);\n",
    "\n",
    "    //# swap adjacent items in array using sub_group permute_group_by_xor\n",
    "    //data[i] = permute_group_by_xor(sg, data[i], 1);\n",
    "      \n",
    "    //# reverse the order of items in sub_group using permute_group_by_xor\n",
    "    data[i] = permute_group_by_xor(sg, data[i], sg.get_max_local_range()[0] - 1);\n",
    "      \n",
    "  }).wait();\n",
    "  \n",
    "  /*#NOTE: My added code - start\n",
    "#     h.parallel_for(nd_range<1>(N, B), [=](nd_item<1> item)[[intel::reqd_sub_group_size(32)]] {\n",
    "#       //# get sub_group handle\n",
    "#       auto sg = item.get_sub_group();\n",
    "\n",
    "#       //# query sub_group and print sub_group info once per sub_group\n",
    "#       if (sg.get_local_id()[0] == 0) {\n",
    "#         out << \"sub_group id: \" << sg.get_group_id()[0] << \" of \"\n",
    "#             << sg.get_group_range()[0] << \", size=\" << sg.get_local_range()[0]\n",
    "#             << \"\\n\";\n",
    "#       }\n",
    "#     });\n",
    "  */\n",
    "    //#NOTE: My added code - end\n",
    "  for (int i = 0; i < N; i++) std::cout << data[i] << \" \";\n",
    "  std::cout << \"\\n\";\n",
    "\n",
    "  free(data, q);\n",
    "  return 0;\n",
    "}"
   ]
  },
  {
   "cell_type": "markdown",
   "metadata": {},
   "source": [
    "#### Build and Run\n",
    "Select the cell below and click run ▶ to compile and execute the code:"
   ]
  },
  {
   "cell_type": "code",
   "execution_count": 13,
   "metadata": {},
   "outputs": [
    {
     "name": "stdout",
     "output_type": "stream",
     "text": [
      "Job has been submitted to Intel(R) DevCloud and will execute soon.\n",
      "\n",
      "Job ID                    Name             User            Time Use S Queue\n",
      "------------------------- ---------------- --------------- -------- - -----\n",
      "2323906.v-qsvr-1           ...ub-singleuser u193422         00:00:24 R jupyterhub     \n",
      "2323968.v-qsvr-1           ...up_shuffle.sh u193422                0 Q batch          \n",
      "\n",
      "Waiting for Output ████████████████████ Done⬇\n",
      "\n",
      "########################################################################\n",
      "#      Date:           Tue 20 Jun 2023 08:38:25 PM PDT\n",
      "#    Job ID:           2323968.v-qsvr-1.aidevcloud\n",
      "#      User:           u193422\n",
      "# Resources:           cput=75:00:00,neednodes=1:gpu:ppn=2,nodes=1:gpu:ppn=2,walltime=06:00:00\n",
      "########################################################################\n",
      "\n",
      "## u193422 is compiling SYCL_Essentials Module4 -- SYCL Sub Groups - 3 of 7 sub_group_shuffle.cpp\n",
      "Device : Intel(R) UHD Graphics [0x9a60]\n",
      "0 1 2 3 4 5 6 7 8 9 10 11 12 13 14 15 16 17 18 19 20 21 22 23 24 25 26 27 28 29 30 31 32 33 34 35 36 37 38 39 40 41 42 43 44 45 46 47 48 49 50 51 52 53 54 55 56 57 58 59 60 61 62 63 64 65 66 67 68 69 70 71 72 73 74 75 76 77 78 79 80 81 82 83 84 85 86 87 88 89 90 91 92 93 94 95 96 97 98 99 100 101 102 103 104 105 106 107 108 109 110 111 112 113 114 115 116 117 118 119 120 121 122 123 124 125 126 127 128 129 130 131 132 133 134 135 136 137 138 139 140 141 142 143 144 145 146 147 148 149 150 151 152 153 154 155 156 157 158 159 160 161 162 163 164 165 166 167 168 169 170 171 172 173 174 175 176 177 178 179 180 181 182 183 184 185 186 187 188 189 190 191 192 193 194 195 196 197 198 199 200 201 202 203 204 205 206 207 208 209 210 211 212 213 214 215 216 217 218 219 220 221 222 223 224 225 226 227 228 229 230 231 232 233 234 235 236 237 238 239 240 241 242 243 244 245 246 247 248 249 250 251 252 253 254 255 \n",
      "\n",
      "7 6 5 4 3 2 1 0 15 14 13 12 11 10 9 8 23 22 21 20 19 18 17 16 31 30 29 28 27 26 25 24 39 38 37 36 35 34 33 32 47 46 45 44 43 42 41 40 55 54 53 52 51 50 49 48 63 62 61 60 59 58 57 56 71 70 69 68 67 66 65 64 79 78 77 76 75 74 73 72 87 86 85 84 83 82 81 80 95 94 93 92 91 90 89 88 103 102 101 100 99 98 97 96 111 110 109 108 107 106 105 104 119 118 117 116 115 114 113 112 127 126 125 124 123 122 121 120 135 134 133 132 131 130 129 128 143 142 141 140 139 138 137 136 151 150 149 148 147 146 145 144 159 158 157 156 155 154 153 152 167 166 165 164 163 162 161 160 175 174 173 172 171 170 169 168 183 182 181 180 179 178 177 176 191 190 189 188 187 186 185 184 199 198 197 196 195 194 193 192 207 206 205 204 203 202 201 200 215 214 213 212 211 210 209 208 223 222 221 220 219 218 217 216 231 230 229 228 227 226 225 224 239 238 237 236 235 234 233 232 247 246 245 244 243 242 241 240 255 254 253 252 251 250 249 248 \n",
      "\n",
      "########################################################################\n",
      "# End of output for job 2323968.v-qsvr-1.aidevcloud\n",
      "# Date: Tue 20 Jun 2023 08:38:40 PM PDT\n",
      "########################################################################\n",
      "\n",
      "Job Completed in 20 seconds.\n"
     ]
    }
   ],
   "source": [
    "! chmod 755 q; chmod 755 run_sub_group_shuffle.sh; if [ -x \"$(command -v qsub)\" ]; then ./q run_sub_group_shuffle.sh; else ./run_sub_group_shuffle.sh; fi"
   ]
  },
  {
   "cell_type": "markdown",
   "metadata": {},
   "source": [
    "#### <font color='red'>Questions</font>\n",
    "3. How are the numbers swapped? Please explain the reason and capture the screenshot.\n",
    "4. How shall you change the code such that the order of the elements in a sub-group of size 8 is reversed? Please explain the changes in the code and capture the screenshot showing the result."
   ]
  },
  {
   "cell_type": "markdown",
   "metadata": {},
   "source": [
    "### Code Example: Subgroup - Reduce"
   ]
  },
  {
   "cell_type": "markdown",
   "metadata": {},
   "source": [
    "The code below uses subgroup `reduce_over_group` function to perform reduction for all items in a subgroup. \n",
    "\n",
    "```cpp\n",
    "    h.parallel_for(nd_range<1>(N,B), [=](nd_item<1> item){\n",
    "      auto sg = item.get_sub_group();\n",
    "      auto i = item.get_global_id(0);\n",
    "      /* Reduction algorithm on Sub-group */\n",
    "      int result = reduce_over_group(sg, data[i], plus<>());\n",
    "      //int result = reduce_over_group(sg, data[i], maximum<>());\n",
    "      //int result = reduce_over_group(sg, data[i], minimum<>());\n",
    "    });\n",
    "\n",
    "```\n",
    "\n",
    "The SYCL code below demonstrates sub-group algorithm: Inspect code, you can change the operator \"_plus_\" to \"_maximum_\" or \"_minimum_\" and check output:\n",
    "\n",
    "1. Inspect the code cell below and click run ▶ to save the code to file.\n",
    "\n",
    "2. Next run ▶ the cell in the __Build and Run__ section below the code to compile and execute the code."
   ]
  },
  {
   "cell_type": "code",
   "execution_count": 16,
   "metadata": {},
   "outputs": [
    {
     "name": "stdout",
     "output_type": "stream",
     "text": [
      "Overwriting lab/sub_group_reduce.cpp\n"
     ]
    }
   ],
   "source": [
    "%%writefile lab/sub_group_reduce.cpp\n",
    "//==============================================================\n",
    "// Copyright © Intel Corporation\n",
    "//\n",
    "// SPDX-License-Identifier: MIT\n",
    "// =============================================================\n",
    "#include <sycl/sycl.hpp>\n",
    "using namespace sycl;\n",
    "\n",
    "static constexpr size_t N = 256; // global size\n",
    "static constexpr size_t B = 64;  // work-group size\n",
    "\n",
    "int main() {\n",
    "  queue q;\n",
    "  std::cout << \"Device : \" << q.get_device().get_info<info::device::name>() << \"\\n\";\n",
    "\n",
    "  //# initialize data array using usm\n",
    "  int *data = malloc_shared<int>(N, q);\n",
    "  for (int i = 0; i < N; i++) data[i] = i;\n",
    "  for (int i = 0; i < N; i++) std::cout << data[i] << \" \";\n",
    "  std::cout << \"\\n\\n\";\n",
    "\n",
    "  q.parallel_for(nd_range<1>(N, B), [=](nd_item<1> item) {\n",
    "    auto sg = item.get_sub_group();\n",
    "    auto i = item.get_global_id(0);\n",
    "\n",
    "    //# Add all elements in sub_group using sub_group algorithm\n",
    "    //#int result = reduce_over_group(sg, data[i], plus<>()); //#Uncomment for original implementation.\n",
    "    int result = reduce_over_group(sg, data[i], maximum<>());\n",
    "\n",
    "    //# write sub_group sum in first location for each sub_group\n",
    "    if (sg.get_local_id()[0] == 0) {\n",
    "      data[i] = result;\n",
    "    } else {\n",
    "      data[i] = 0;\n",
    "    }\n",
    "  }).wait();\n",
    "\n",
    "  for (int i = 0; i < N; i++) std::cout << data[i] << \" \";\n",
    "  std::cout << \"\\n\";\n",
    "\n",
    "  free(data, q);\n",
    "  return 0;\n",
    "}"
   ]
  },
  {
   "cell_type": "markdown",
   "metadata": {},
   "source": [
    "#### Build and Run\n",
    "Select the cell below and click run ▶ to compile and execute the code:"
   ]
  },
  {
   "cell_type": "code",
   "execution_count": 17,
   "metadata": {},
   "outputs": [
    {
     "name": "stdout",
     "output_type": "stream",
     "text": [
      "Job has been submitted to Intel(R) DevCloud and will execute soon.\n",
      "\n",
      "Job ID                    Name             User            Time Use S Queue\n",
      "------------------------- ---------------- --------------- -------- - -----\n",
      "2323906.v-qsvr-1           ...ub-singleuser u193422         00:00:31 R jupyterhub     \n",
      "2323976.v-qsvr-1           ...oup_reduce.sh u193422                0 Q batch          \n",
      "\n",
      "Waiting for Output ████████████████████ Done⬇\n",
      "\n",
      "########################################################################\n",
      "#      Date:           Tue 20 Jun 2023 09:01:57 PM PDT\n",
      "#    Job ID:           2323976.v-qsvr-1.aidevcloud\n",
      "#      User:           u193422\n",
      "# Resources:           cput=75:00:00,neednodes=1:gpu:ppn=2,nodes=1:gpu:ppn=2,walltime=06:00:00\n",
      "########################################################################\n",
      "\n",
      "## u193422 is compiling SYCL_Essentials Module4 -- SYCL Sub Groups - 4 of 7 sub_group_reduce.cpp\n",
      "Device : Intel(R) UHD Graphics [0x9a60]\n",
      "0 1 2 3 4 5 6 7 8 9 10 11 12 13 14 15 16 17 18 19 20 21 22 23 24 25 26 27 28 29 30 31 32 33 34 35 36 37 38 39 40 41 42 43 44 45 46 47 48 49 50 51 52 53 54 55 56 57 58 59 60 61 62 63 64 65 66 67 68 69 70 71 72 73 74 75 76 77 78 79 80 81 82 83 84 85 86 87 88 89 90 91 92 93 94 95 96 97 98 99 100 101 102 103 104 105 106 107 108 109 110 111 112 113 114 115 116 117 118 119 120 121 122 123 124 125 126 127 128 129 130 131 132 133 134 135 136 137 138 139 140 141 142 143 144 145 146 147 148 149 150 151 152 153 154 155 156 157 158 159 160 161 162 163 164 165 166 167 168 169 170 171 172 173 174 175 176 177 178 179 180 181 182 183 184 185 186 187 188 189 190 191 192 193 194 195 196 197 198 199 200 201 202 203 204 205 206 207 208 209 210 211 212 213 214 215 216 217 218 219 220 221 222 223 224 225 226 227 228 229 230 231 232 233 234 235 236 237 238 239 240 241 242 243 244 245 246 247 248 249 250 251 252 253 254 255 \n",
      "\n",
      "31 0 0 0 0 0 0 0 0 0 0 0 0 0 0 0 0 0 0 0 0 0 0 0 0 0 0 0 0 0 0 0 63 0 0 0 0 0 0 0 0 0 0 0 0 0 0 0 0 0 0 0 0 0 0 0 0 0 0 0 0 0 0 0 95 0 0 0 0 0 0 0 0 0 0 0 0 0 0 0 0 0 0 0 0 0 0 0 0 0 0 0 0 0 0 0 127 0 0 0 0 0 0 0 0 0 0 0 0 0 0 0 0 0 0 0 0 0 0 0 0 0 0 0 0 0 0 0 159 0 0 0 0 0 0 0 0 0 0 0 0 0 0 0 0 0 0 0 0 0 0 0 0 0 0 0 0 0 0 0 191 0 0 0 0 0 0 0 0 0 0 0 0 0 0 0 0 0 0 0 0 0 0 0 0 0 0 0 0 0 0 0 223 0 0 0 0 0 0 0 0 0 0 0 0 0 0 0 0 0 0 0 0 0 0 0 0 0 0 0 0 0 0 0 255 0 0 0 0 0 0 0 0 0 0 0 0 0 0 0 0 0 0 0 0 0 0 0 0 0 0 0 0 0 0 0 \n",
      "\n",
      "########################################################################\n",
      "# End of output for job 2323976.v-qsvr-1.aidevcloud\n",
      "# Date: Tue 20 Jun 2023 09:02:11 PM PDT\n",
      "########################################################################\n",
      "\n",
      "Job Completed in 20 seconds.\n"
     ]
    }
   ],
   "source": [
    "! chmod 755 q; chmod 755 run_sub_group_reduce.sh; if [ -x \"$(command -v qsub)\" ]; then ./q run_sub_group_reduce.sh; else ./run_sub_group_reduce.sh; fi"
   ]
  },
  {
   "cell_type": "markdown",
   "metadata": {},
   "source": [
    "#### <font color='red'>Questions</font>\n",
    "5. Is the largest number in the output the sum of all the elements? Please explain your answer.\n",
    "6. What is the output when you replace plus<> with maximum<> ? Please include screenshot."
   ]
  },
  {
   "cell_type": "markdown",
   "metadata": {},
   "source": [
    "### Code Example: Subgroup - Broadcast"
   ]
  },
  {
   "cell_type": "markdown",
   "metadata": {},
   "source": [
    "The code below uses subgroup algorithm `group_broadcast` function, this enables one work-item in a group to share the value of a variable with all other work-items in the group.\n",
    "\n",
    "The SYCL code below demonstrates sub-group broadcast function: Inspect code, there are no modifications necessary:\n",
    "\n",
    "1. Inspect the code cell below and click run ▶ to save the code to file.\n",
    "\n",
    "2. Next run ▶ the cell in the __Build and Run__ section below the code to compile and execute the code."
   ]
  },
  {
   "cell_type": "code",
   "execution_count": 3,
   "metadata": {},
   "outputs": [
    {
     "name": "stdout",
     "output_type": "stream",
     "text": [
      "Overwriting lab/sub_group_broadcast.cpp\n"
     ]
    }
   ],
   "source": [
    "%%writefile lab/sub_group_broadcast.cpp\n",
    "//==============================================================\n",
    "// Copyright © Intel Corporation\n",
    "//\n",
    "// SPDX-License-Identifier: MIT\n",
    "// =============================================================\n",
    "#include <sycl/sycl.hpp>\n",
    "using namespace sycl;\n",
    "\n",
    "static constexpr size_t N = 256; // global size\n",
    "static constexpr size_t B = 64; // work-group size\n",
    "\n",
    "int main() {\n",
    "  queue q;\n",
    "  std::cout << \"Device : \" << q.get_device().get_info<info::device::name>() << \"\\n\";\n",
    "\n",
    "  //# initialize data array using usm\n",
    "  int *data = malloc_shared<int>(N, q);\n",
    "  for(int i=0; i<N; i++) data[i] = i;\n",
    "  for(int i=0; i<N; i++) std::cout << data[i] << \" \"; \n",
    "  std::cout << \"\\n\\n\";  \n",
    "\n",
    "  //# use parallel_for and sub_groups\n",
    "  q.parallel_for(nd_range<1>(N, B), [=](nd_item<1> item)[[intel::reqd_sub_group_size(8)]] {\n",
    "    auto sg = item.get_sub_group();\n",
    "    auto i = item.get_global_id(0);\n",
    "\n",
    "    //# write sub_group item values to broadcast value at index 3\n",
    "    data[i] = group_broadcast(sg, data[i], 3);\n",
    "\n",
    "  }).wait();\n",
    "\n",
    "  for(int i=0; i<N; i++) std::cout << data[i] << \" \"; \n",
    "  std::cout << \"\\n\";\n",
    "  \n",
    "  free(data, q);\n",
    "  return 0;\n",
    "}"
   ]
  },
  {
   "cell_type": "markdown",
   "metadata": {},
   "source": [
    "#### Build and Run\n",
    "Select the cell below and click run ▶ to compile and execute the code:"
   ]
  },
  {
   "cell_type": "code",
   "execution_count": 4,
   "metadata": {},
   "outputs": [
    {
     "name": "stdout",
     "output_type": "stream",
     "text": [
      "Job has been submitted to Intel(R) DevCloud and will execute soon.\n",
      "\n",
      "Job ID                    Name             User            Time Use S Queue\n",
      "------------------------- ---------------- --------------- -------- - -----\n",
      "2326501.v-qsvr-1           ...ub-singleuser u193422         00:00:14 R jupyterhub     \n",
      "2326505.v-qsvr-1           ..._broadcast.sh u193422                0 Q batch          \n",
      "\n",
      "Waiting for Output ████████████████████████████████████████████████████████████ Done⬇\n",
      "\n",
      "########################################################################\n",
      "#      Date:           Thu 22 Jun 2023 06:30:24 PM PDT\n",
      "#    Job ID:           2326505.v-qsvr-1.aidevcloud\n",
      "#      User:           u193422\n",
      "# Resources:           cput=75:00:00,neednodes=1:gpu:ppn=2,nodes=1:gpu:ppn=2,walltime=06:00:00\n",
      "########################################################################\n",
      "\n",
      "## u193422 is compiling SYCL_Essentials Module4 -- SYCL Sub Groups - 5 of 7 sub_group_broadcast.cpp\n",
      "Device : Intel(R) UHD Graphics [0x9a60]\n",
      "0 1 2 3 4 5 6 7 8 9 10 11 12 13 14 15 16 17 18 19 20 21 22 23 24 25 26 27 28 29 30 31 32 33 34 35 36 37 38 39 40 41 42 43 44 45 46 47 48 49 50 51 52 53 54 55 56 57 58 59 60 61 62 63 64 65 66 67 68 69 70 71 72 73 74 75 76 77 78 79 80 81 82 83 84 85 86 87 88 89 90 91 92 93 94 95 96 97 98 99 100 101 102 103 104 105 106 107 108 109 110 111 112 113 114 115 116 117 118 119 120 121 122 123 124 125 126 127 128 129 130 131 132 133 134 135 136 137 138 139 140 141 142 143 144 145 146 147 148 149 150 151 152 153 154 155 156 157 158 159 160 161 162 163 164 165 166 167 168 169 170 171 172 173 174 175 176 177 178 179 180 181 182 183 184 185 186 187 188 189 190 191 192 193 194 195 196 197 198 199 200 201 202 203 204 205 206 207 208 209 210 211 212 213 214 215 216 217 218 219 220 221 222 223 224 225 226 227 228 229 230 231 232 233 234 235 236 237 238 239 240 241 242 243 244 245 246 247 248 249 250 251 252 253 254 255 \n",
      "\n",
      "3 3 3 3 3 3 3 3 11 11 11 11 11 11 11 11 19 19 19 19 19 19 19 19 27 27 27 27 27 27 27 27 35 35 35 35 35 35 35 35 43 43 43 43 43 43 43 43 51 51 51 51 51 51 51 51 59 59 59 59 59 59 59 59 67 67 67 67 67 67 67 67 75 75 75 75 75 75 75 75 83 83 83 83 83 83 83 83 91 91 91 91 91 91 91 91 99 99 99 99 99 99 99 99 107 107 107 107 107 107 107 107 115 115 115 115 115 115 115 115 123 123 123 123 123 123 123 123 131 131 131 131 131 131 131 131 139 139 139 139 139 139 139 139 147 147 147 147 147 147 147 147 155 155 155 155 155 155 155 155 163 163 163 163 163 163 163 163 171 171 171 171 171 171 171 171 179 179 179 179 179 179 179 179 187 187 187 187 187 187 187 187 195 195 195 195 195 195 195 195 203 203 203 203 203 203 203 203 211 211 211 211 211 211 211 211 219 219 219 219 219 219 219 219 227 227 227 227 227 227 227 227 235 235 235 235 235 235 235 235 243 243 243 243 243 243 243 243 251 251 251 251 251 251 251 251 \n",
      "\n",
      "########################################################################\n",
      "# End of output for job 2326505.v-qsvr-1.aidevcloud\n",
      "# Date: Thu 22 Jun 2023 06:30:44 PM PDT\n",
      "########################################################################\n",
      "\n",
      "Job Completed in 60 seconds.\n"
     ]
    }
   ],
   "source": [
    "! chmod 755 q; chmod 755 run_sub_group_broadcast.sh; if [ -x \"$(command -v qsub)\" ]; then ./q run_sub_group_broadcast.sh; else ./run_sub_group_broadcast.sh; fi"
   ]
  },
  {
   "cell_type": "markdown",
   "metadata": {},
   "source": [
    "#### <font color='red'>Questions</font>\n",
    "7. How are the numbers broadcasted? Please explain the reason and capture the screenshot.\n",
    "8. What will happen if you set the sub-group size to be 8? Please explain the changes in the code and capture the screenshot showing the result. Hint: check an earlier cell about how to set the sub-group size."
   ]
  },
  {
   "cell_type": "markdown",
   "metadata": {},
   "source": [
    "### Code Example: Subgroup - Votes"
   ]
  },
  {
   "cell_type": "markdown",
   "metadata": {},
   "source": [
    "The `any_of_group`, `all_of_group` and `none_of_group` functions (henceforth referred to collectively as\n",
    "“vote” functions) enable work-items to compare the result of a Boolean\n",
    "condition across their group.\n",
    "\n",
    "The SYCL code below demonstrates sub-group algorithms `any_of_group`, `all_of_group` and `none_of_group` functions: Inspect code, there are no modifications necessary:\n",
    "\n",
    "1. Inspect the code cell below and click run ▶ to save the code to file.\n",
    "\n",
    "2. Next run ▶ the cell in the __Build and Run__ section below the code to compile and execute the code."
   ]
  },
  {
   "cell_type": "code",
   "execution_count": 5,
   "metadata": {},
   "outputs": [
    {
     "name": "stdout",
     "output_type": "stream",
     "text": [
      "Overwriting lab/sub_group_votes.cpp\n"
     ]
    }
   ],
   "source": [
    "%%writefile lab/sub_group_votes.cpp\n",
    "//==============================================================\n",
    "// Copyright © Intel Corporation\n",
    "//\n",
    "// SPDX-License-Identifier: MIT\n",
    "// =============================================================\n",
    "#include <sycl/sycl.hpp>\n",
    "using namespace sycl;\n",
    "\n",
    "static constexpr size_t N = 32; // global size\n",
    "static constexpr size_t B = 16; // work-group size\n",
    "\n",
    "int main() {\n",
    "  queue q;\n",
    "  std::cout << \"Device : \" << q.get_device().get_info<info::device::name>() << \"\\n\";\n",
    "\n",
    "  //# initialize input and output array using usm\n",
    "  auto input = malloc_shared<int>(N, q);\n",
    "  auto all = malloc_shared<int>(N, q);\n",
    "  auto any = malloc_shared<int>(N, q);\n",
    "  auto none = malloc_shared<int>(N, q);\n",
    "    \n",
    "  //# initialize values for input array  \n",
    "  for(int i=0; i<N; i++) { if (i< 10) input[i] = 0; else input[i] = i; }\n",
    "  std::cout << \"input:\\n\";\n",
    "  for(int i=0; i<N; i++) std::cout << input[i] << \" \"; std::cout << \"\\n\";  \n",
    "\n",
    "  //# use parallel_for and sub_groups\n",
    "  q.parallel_for(nd_range<1>(N, B), [=](nd_item<1> item)[[intel::reqd_sub_group_size(8)]] {\n",
    "    auto sg = item.get_sub_group();\n",
    "    auto i = item.get_global_id(0);\n",
    "\n",
    "    //# write items with vote functions\n",
    "    all[i] = all_of_group(sg, input[i]);\n",
    "    any[i] = any_of_group(sg, input[i]);\n",
    "    none[i] = none_of_group(sg, input[i]);\n",
    "\n",
    "  }).wait();\n",
    "\n",
    "  std::cout << \"all_of:\\n\";\n",
    "  for(int i=0; i<N; i++) std::cout << all[i] << \" \"; std::cout << \"\\n\";\n",
    "  std::cout << \"any_of:\\n\";\n",
    "  for(int i=0; i<N; i++) std::cout << any[i] << \" \"; std::cout << \"\\n\";\n",
    "  std::cout << \"none_of:\\n\";\n",
    "  for(int i=0; i<N; i++) std::cout << none[i] << \" \"; std::cout << \"\\n\";\n",
    "  \n",
    "  free(input, q);\n",
    "  free(all, q);\n",
    "  free(any, q);\n",
    "  free(none, q);\n",
    "  return 0;\n",
    "}"
   ]
  },
  {
   "cell_type": "markdown",
   "metadata": {},
   "source": [
    "#### Build and Run\n",
    "Select the cell below and click run ▶ to compile and execute the code:"
   ]
  },
  {
   "cell_type": "code",
   "execution_count": 6,
   "metadata": {},
   "outputs": [
    {
     "name": "stdout",
     "output_type": "stream",
     "text": [
      "Job has been submitted to Intel(R) DevCloud and will execute soon.\n",
      "\n",
      "Job ID                    Name             User            Time Use S Queue\n",
      "------------------------- ---------------- --------------- -------- - -----\n",
      "2326501.v-qsvr-1           ...ub-singleuser u193422         00:00:18 R jupyterhub     \n",
      "2326508.v-qsvr-1           ...roup_votes.sh u193422                0 Q batch          \n",
      "\n",
      "Waiting for Output ████████████████████████████████████████████████████████████ Done⬇\n",
      "\n",
      "########################################################################\n",
      "#      Date:           Thu 22 Jun 2023 06:36:38 PM PDT\n",
      "#    Job ID:           2326508.v-qsvr-1.aidevcloud\n",
      "#      User:           u193422\n",
      "# Resources:           cput=75:00:00,neednodes=1:gpu:ppn=2,nodes=1:gpu:ppn=2,walltime=06:00:00\n",
      "########################################################################\n",
      "\n",
      "## u193422 is compiling SYCL_Essentials Module4 -- SYCL Sub Groups - 6 of 7 sub_group_votes.cpp\n",
      "Device : Intel(R) UHD Graphics [0x9a60]\n",
      "input:\n",
      "0 0 0 0 0 0 0 0 0 0 10 11 12 13 14 15 16 17 18 19 20 21 22 23 24 25 26 27 28 29 30 31 \n",
      "all_of:\n",
      "0 0 0 0 0 0 0 0 0 0 0 0 0 0 0 0 1 1 1 1 1 1 1 1 1 1 1 1 1 1 1 1 \n",
      "any_of:\n",
      "0 0 0 0 0 0 0 0 1 1 1 1 1 1 1 1 1 1 1 1 1 1 1 1 1 1 1 1 1 1 1 1 \n",
      "none_of:\n",
      "1 1 1 1 1 1 1 1 0 0 0 0 0 0 0 0 0 0 0 0 0 0 0 0 0 0 0 0 0 0 0 0 \n",
      "\n",
      "########################################################################\n",
      "# End of output for job 2326508.v-qsvr-1.aidevcloud\n",
      "# Date: Thu 22 Jun 2023 06:36:48 PM PDT\n",
      "########################################################################\n",
      "\n",
      "Job Completed in 60 seconds.\n"
     ]
    }
   ],
   "source": [
    "! chmod 755 q; chmod 755 run_sub_group_votes.sh; if [ -x \"$(command -v qsub)\" ]; then ./q run_sub_group_votes.sh; else ./run_sub_group_votes.sh; fi"
   ]
  },
  {
   "cell_type": "markdown",
   "metadata": {
    "tags": []
   },
   "source": [
    "## Lab Exercise: Sub-Groups"
   ]
  },
  {
   "cell_type": "markdown",
   "metadata": {},
   "source": [
    "Complete the coding exercise below using Sub-Group concepts:\n",
    "- The code has an array `data` of size `N=1024` elements initialized\n",
    "- We will offload kernel task to compute the sum of all items in each sub-group and save in new array `sg_data`\n",
    "- We will set the sub-group size to `S=32`, which will make the `sg_data` array of size `N/S`\n",
    "- Create USM shared allocation for `data` and `sg_data`\n",
    "- Create a nd-range kernel task with fixed sub-group size of `S`\n",
    "- In the kernel task, compute the sub-group sum using `reduce_over_group` function\n",
    "- In the kernel task, save each sub_group sum into the `sg_data` array\n",
    "- On the host, add all elements of `sg_data` to get the final sum.\n",
    "\n",
    "1. Edit the code cell below by following the steps and then click run ▶ to save the code to a file.\n",
    "2. Next run ▶ the cell in the __Build and Run__ section below the code to compile and execute the code."
   ]
  },
  {
   "cell_type": "code",
   "execution_count": 31,
   "metadata": {
    "tags": []
   },
   "outputs": [
    {
     "name": "stdout",
     "output_type": "stream",
     "text": [
      "Overwriting lab/sub_group_lab.cpp\n"
     ]
    }
   ],
   "source": [
    "%%writefile lab/sub_group_lab.cpp\n",
    "//==============================================================\n",
    "// Copyright © Intel Corporation\n",
    "//\n",
    "// SPDX-License-Identifier: MIT\n",
    "// =============================================================\n",
    "#include <sycl/sycl.hpp>\n",
    "using namespace sycl;\n",
    "\n",
    "static constexpr size_t N = 1024; // global size\n",
    "static constexpr size_t B = 256;  // work-group size\n",
    "static constexpr size_t S = 32;  // sub-group size\n",
    "\n",
    "int main() {\n",
    "  queue q;\n",
    "  std::cout << \"Device : \" << q.get_device().get_info<info::device::name>() << \"\\n\";\n",
    "\n",
    "  //# allocate USM shared allocation for input data array and sg_data array\n",
    "  int *data = malloc_shared<int>(N, q);\n",
    "  int *sg_data = malloc_shared<int>(N/S, q);\n",
    "    \n",
    "  //# initialize input data array\n",
    "  for (int i = 0; i < N; i++) data[i] = i;\n",
    "  for (int i = 0; i < N; i++) std::cout << data[i] << \" \";\n",
    "  std::cout << \"\\n\\n\";\n",
    "\n",
    "  //# Kernel task to compute sub-group sum and save to sg_data array\n",
    "    \n",
    "  //# STEP 1 : set fixed sub_group size of value S in the kernel below [DONE]\n",
    "\n",
    "  q.parallel_for(nd_range<1>(N, B), [=](nd_item<1> item)[[intel::reqd_sub_group_size(S)]] {\n",
    "    auto sg = item.get_sub_group();\n",
    "    auto i = item.get_global_id(0);\n",
    "\n",
    "    //# STEP 2: Add all elements in sub_group using sub_group reduce\n",
    "      \n",
    "    //# YOUR CODE GOES HERE \n",
    "\n",
    "    //# Add all elements in sub_group using sub_group algorithm\n",
    "    int result = reduce_over_group(sg, data[i], plus<>());\n",
    "      \n",
    "    //# STEP 3 : save each sub-group sum to sg_data array\n",
    "    \n",
    "    //# YOUR CODE GOES HERE \n",
    "    if (sg.get_local_id()[0] == 0) {\n",
    "      sg_data[i/32] = result;\n",
    "    } \n",
    "  }).wait();\n",
    "\n",
    "  //# print sg_data array\n",
    "  for (int i = 0; i < N/S; i++) std::cout << sg_data[i] << \" \";\n",
    "  std::cout << \"\\n\";\n",
    "    \n",
    "  //# STEP 4: compute sum of all elements in sg_data array\n",
    "  int sum = 0;\n",
    "\n",
    "  //# YOUR CODE GOES HERE \n",
    "  for (int i = 0; i < N/S; i++)\n",
    "    sum += sg_data[i];\n",
    " \n",
    "\n",
    "  std::cout << \"\\nSum = \" << sum << \"\\n\";\n",
    "  \n",
    "  //# free USM allocations\n",
    "  free(data, q);\n",
    "  free(sg_data, q);\n",
    "\n",
    "  return 0;\n",
    "}"
   ]
  },
  {
   "cell_type": "markdown",
   "metadata": {},
   "source": [
    "#### Build and Run\n",
    "Select the cell below and click run ▶ to compile and execute the code:"
   ]
  },
  {
   "cell_type": "code",
   "execution_count": 32,
   "metadata": {},
   "outputs": [
    {
     "name": "stdout",
     "output_type": "stream",
     "text": [
      "Job has been submitted to Intel(R) DevCloud and will execute soon.\n",
      "\n",
      "Job ID                    Name             User            Time Use S Queue\n",
      "------------------------- ---------------- --------------- -------- - -----\n",
      "2326501.v-qsvr-1           ...ub-singleuser u193422         00:01:12 R jupyterhub     \n",
      "2326536.v-qsvr-1           ..._group_lab.sh u193422                0 Q batch          \n",
      "\n",
      "Waiting for Output █████████████████████████████████████████████████ Done⬇\n",
      "\n",
      "########################################################################\n",
      "#      Date:           Thu 22 Jun 2023 08:22:35 PM PDT\n",
      "#    Job ID:           2326536.v-qsvr-1.aidevcloud\n",
      "#      User:           u193422\n",
      "# Resources:           cput=75:00:00,neednodes=1:gpu:ppn=2,nodes=1:gpu:ppn=2,walltime=06:00:00\n",
      "########################################################################\n",
      "\n",
      "## u193422 is compiling SYCL_Essentials Module4 -- SYCL Sub Groups - 7 of 7 sub_group_lab.cpp\n",
      "Device : Intel(R) UHD Graphics [0x9a60]\n",
      "0 1 2 3 4 5 6 7 8 9 10 11 12 13 14 15 16 17 18 19 20 21 22 23 24 25 26 27 28 29 30 31 32 33 34 35 36 37 38 39 40 41 42 43 44 45 46 47 48 49 50 51 52 53 54 55 56 57 58 59 60 61 62 63 64 65 66 67 68 69 70 71 72 73 74 75 76 77 78 79 80 81 82 83 84 85 86 87 88 89 90 91 92 93 94 95 96 97 98 99 100 101 102 103 104 105 106 107 108 109 110 111 112 113 114 115 116 117 118 119 120 121 122 123 124 125 126 127 128 129 130 131 132 133 134 135 136 137 138 139 140 141 142 143 144 145 146 147 148 149 150 151 152 153 154 155 156 157 158 159 160 161 162 163 164 165 166 167 168 169 170 171 172 173 174 175 176 177 178 179 180 181 182 183 184 185 186 187 188 189 190 191 192 193 194 195 196 197 198 199 200 201 202 203 204 205 206 207 208 209 210 211 212 213 214 215 216 217 218 219 220 221 222 223 224 225 226 227 228 229 230 231 232 233 234 235 236 237 238 239 240 241 242 243 244 245 246 247 248 249 250 251 252 253 254 255 256 257 258 259 260 261 262 263 264 265 266 267 268 269 270 271 272 273 274 275 276 277 278 279 280 281 282 283 284 285 286 287 288 289 290 291 292 293 294 295 296 297 298 299 300 301 302 303 304 305 306 307 308 309 310 311 312 313 314 315 316 317 318 319 320 321 322 323 324 325 326 327 328 329 330 331 332 333 334 335 336 337 338 339 340 341 342 343 344 345 346 347 348 349 350 351 352 353 354 355 356 357 358 359 360 361 362 363 364 365 366 367 368 369 370 371 372 373 374 375 376 377 378 379 380 381 382 383 384 385 386 387 388 389 390 391 392 393 394 395 396 397 398 399 400 401 402 403 404 405 406 407 408 409 410 411 412 413 414 415 416 417 418 419 420 421 422 423 424 425 426 427 428 429 430 431 432 433 434 435 436 437 438 439 440 441 442 443 444 445 446 447 448 449 450 451 452 453 454 455 456 457 458 459 460 461 462 463 464 465 466 467 468 469 470 471 472 473 474 475 476 477 478 479 480 481 482 483 484 485 486 487 488 489 490 491 492 493 494 495 496 497 498 499 500 501 502 503 504 505 506 507 508 509 510 511 512 513 514 515 516 517 518 519 520 521 522 523 524 525 526 527 528 529 530 531 532 533 534 535 536 537 538 539 540 541 542 543 544 545 546 547 548 549 550 551 552 553 554 555 556 557 558 559 560 561 562 563 564 565 566 567 568 569 570 571 572 573 574 575 576 577 578 579 580 581 582 583 584 585 586 587 588 589 590 591 592 593 594 595 596 597 598 599 600 601 602 603 604 605 606 607 608 609 610 611 612 613 614 615 616 617 618 619 620 621 622 623 624 625 626 627 628 629 630 631 632 633 634 635 636 637 638 639 640 641 642 643 644 645 646 647 648 649 650 651 652 653 654 655 656 657 658 659 660 661 662 663 664 665 666 667 668 669 670 671 672 673 674 675 676 677 678 679 680 681 682 683 684 685 686 687 688 689 690 691 692 693 694 695 696 697 698 699 700 701 702 703 704 705 706 707 708 709 710 711 712 713 714 715 716 717 718 719 720 721 722 723 724 725 726 727 728 729 730 731 732 733 734 735 736 737 738 739 740 741 742 743 744 745 746 747 748 749 750 751 752 753 754 755 756 757 758 759 760 761 762 763 764 765 766 767 768 769 770 771 772 773 774 775 776 777 778 779 780 781 782 783 784 785 786 787 788 789 790 791 792 793 794 795 796 797 798 799 800 801 802 803 804 805 806 807 808 809 810 811 812 813 814 815 816 817 818 819 820 821 822 823 824 825 826 827 828 829 830 831 832 833 834 835 836 837 838 839 840 841 842 843 844 845 846 847 848 849 850 851 852 853 854 855 856 857 858 859 860 861 862 863 864 865 866 867 868 869 870 871 872 873 874 875 876 877 878 879 880 881 882 883 884 885 886 887 888 889 890 891 892 893 894 895 896 897 898 899 900 901 902 903 904 905 906 907 908 909 910 911 912 913 914 915 916 917 918 919 920 921 922 923 924 925 926 927 928 929 930 931 932 933 934 935 936 937 938 939 940 941 942 943 944 945 946 947 948 949 950 951 952 953 954 955 956 957 958 959 960 961 962 963 964 965 966 967 968 969 970 971 972 973 974 975 976 977 978 979 980 981 982 983 984 985 986 987 988 989 990 991 992 993 994 995 996 997 998 999 1000 1001 1002 1003 1004 1005 1006 1007 1008 1009 1010 1011 1012 1013 1014 1015 1016 1017 1018 1019 1020 1021 1022 1023 \n",
      "\n",
      "496 1520 2544 3568 4592 5616 6640 7664 8688 9712 10736 11760 12784 13808 14832 15856 16880 17904 18928 19952 20976 22000 23024 24048 25072 26096 27120 28144 29168 30192 31216 32240 \n",
      "\n",
      "Sum = 523776\n",
      "\n",
      "########################################################################\n",
      "# End of output for job 2326536.v-qsvr-1.aidevcloud\n",
      "# Date: Thu 22 Jun 2023 08:22:46 PM PDT\n",
      "########################################################################\n",
      "\n",
      "Job Completed in 49 seconds.\n"
     ]
    }
   ],
   "source": [
    "! chmod 755 run_sub_group_lab.sh; if [ -x \"$(command -v qsub)\" ]; then ./q run_sub_group_lab.sh; else ./run_sub_group_lab.sh; fi"
   ]
  },
  {
   "cell_type": "markdown",
   "metadata": {},
   "source": [
    "#### <font color='red'>Questions</font>\n",
    "9. What is the final \"Sum\"? Please explain the code you added and capture the screenshot showing your code and result."
   ]
  },
  {
   "cell_type": "markdown",
   "metadata": {},
   "source": [
    "## Summary"
   ]
  },
  {
   "cell_type": "markdown",
   "metadata": {},
   "source": [
    "Subgroups allow kernel programming that maps executions at low-level hardware and may help in achieving higher levels of performance."
   ]
  }
 ],
 "metadata": {
  "kernelspec": {
   "display_name": "Python 3 (Intel® oneAPI 2023.1)",
   "language": "python",
   "name": "c009-intel_distribution_of_python_3_oneapi-beta05-python"
  },
  "language_info": {
   "codemirror_mode": {
    "name": "ipython",
    "version": 3
   },
   "file_extension": ".py",
   "mimetype": "text/x-python",
   "name": "python",
   "nbconvert_exporter": "python",
   "pygments_lexer": "ipython3",
   "version": "3.9.16"
  },
  "toc": {
   "base_numbering": 1,
   "nav_menu": {},
   "number_sections": true,
   "sideBar": true,
   "skip_h1_title": false,
   "title_cell": "Table of Contents",
   "title_sidebar": "Contents",
   "toc_cell": false,
   "toc_position": {
    "height": "calc(100% - 180px)",
    "left": "10px",
    "top": "150px",
    "width": "310.667px"
   },
   "toc_section_display": true,
   "toc_window_display": true
  }
 },
 "nbformat": 4,
 "nbformat_minor": 4
}
