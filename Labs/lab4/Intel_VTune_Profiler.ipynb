{
 "cells": [
  {
   "cell_type": "markdown",
   "metadata": {},
   "source": [
    "# VTune™ Profiling on Intel® DevCloud\n",
    "#### Based on Intel training module, revised for EECE.4510/5510 Labs\n",
    "##### by Prof. Yan Luo. June 12, 2023."
   ]
  },
  {
   "cell_type": "markdown",
   "metadata": {},
   "source": [
    "##### Sections\n",
    "- [What is VTune™ Profiler?](#What-is-VTune™-Profiler?)\n",
    "- [VTune™ Command-line Options](#VTune™-Command-line-Options)\n",
    "- _Lab Exercise:_ [VTune™ gpu_hotspots profiling with iso3dfd sample](#Lab-Exercise:-VTune™-Profiling)"
   ]
  },
  {
   "cell_type": "markdown",
   "metadata": {},
   "source": [
    "## Learning Objectives"
   ]
  },
  {
   "cell_type": "markdown",
   "metadata": {},
   "source": [
    "- Profile a SYCL application using the VTune™ profiling tool on Intel® DevCloud\n",
    "- Understand the basics of VTune™ command line options for collecting data and generating reports"
   ]
  },
  {
   "cell_type": "markdown",
   "metadata": {},
   "source": [
    "## What is VTune™ Profiler?"
   ]
  },
  {
   "cell_type": "markdown",
   "metadata": {},
   "source": [
    "VTune™ allows SYCL Profiling capabilities so you can tune for CPU, GPU, and FPGA.\n",
    "\n",
    "![VTune UI](vtuneui.png)\n",
    "\n",
    "__Analyze Data Parallell C++__ :\n",
    "See the lines of DPC++ that consume the most time\n",
    "\n",
    "__Tune for CPU, GPU & FPGA__ :\n",
    "Optimize for any supported hardware accelerator\n",
    "\n",
    "__Optimize Offload__ :\n",
    "Tune OpenMP offload performance\n",
    "\n",
    "__Wide Range of Performance Profiles__ :\n",
    "CPU, GPU, FPGA, threading, memory, cache, storage…\n",
    "\n",
    "__Most Popular Languages__ :\n",
    "SYCL, C, C++, Fortran*, Python*, Go*, Java*, or a mix\n"
   ]
  },
  {
   "cell_type": "markdown",
   "metadata": {},
   "source": [
    "## VTune™ Command-line Options"
   ]
  },
  {
   "cell_type": "markdown",
   "metadata": {},
   "source": [
    "### Run and collect VTune™ data\n",
    "```vtune -collect gpu_hotspots -result-dir vtune_data a.out```\n",
    "\n",
    "Various types of profiling data can be collected like `hotspots`, `memory-consumption`, `memory-access`, `threading`…\n",
    "\n",
    "Use the command line help to find out more:\n",
    "\n",
    "```vtune --help -collect```\n",
    "\n",
    "### Generate html report for collected VTune™ data:\n",
    "```vtune -report summary -result-dir vtune_data -format html -report-output $(pwd)/summary.html```\n",
    "\n",
    "Various types of report can be generated like `summary`, `top-down`, `callstacks`…\n",
    "\n",
    "Use the command line help to find out more:\n",
    "\n",
    "```vtune --help -report```\n"
   ]
  },
  {
   "cell_type": "markdown",
   "metadata": {},
   "source": [
    "## When to use VTune™ Command line"
   ]
  },
  {
   "cell_type": "markdown",
   "metadata": {},
   "source": [
    "VTune™ Command-line is useful when on __Intel® DevCloud__ or you only have __SSH__ access to development system.\n",
    "\n",
    "However, it is recommended to install the __full VTune™ version__ on a local system and use the __UI rich experience__ of VTune Profiling Tool.\n",
    "\n",
    "![VTune UI](vtuneui.png)\n"
   ]
  },
  {
   "cell_type": "markdown",
   "metadata": {},
   "source": [
    "## Lab Exercise: VTune™ Profiling\n",
    "- Build, run, collect VTune™ data and display VTune summary when running on gpu and cpu."
   ]
  },
  {
   "cell_type": "markdown",
   "metadata": {},
   "source": [
    "### Test Application: SYCL implementation of iso3dfd"
   ]
  },
  {
   "cell_type": "markdown",
   "metadata": {},
   "source": [
    "SYCL implementation of iso3dfd will be used to collect VTune™ data and analyze the generated result. Below are source code to iso3dfd application:\n",
    "- [iso3dfd.cpp](src/iso3dfd.cpp)\n",
    "- [iso3dfd_kernels.cpp](src/iso3dfd_kernels.cpp)\n"
   ]
  },
  {
   "cell_type": "markdown",
   "metadata": {},
   "source": [
    "### Build and Run"
   ]
  },
  {
   "cell_type": "code",
   "execution_count": 6,
   "metadata": {},
   "outputs": [
    {
     "name": "stdout",
     "output_type": "stream",
     "text": [
      "Overwriting run_iso3dfd.sh\n"
     ]
    }
   ],
   "source": [
    "%%writefile run_iso3dfd.sh\n",
    "#!/bin/bash\n",
    "source /opt/intel/inteloneapi/setvars.sh > /dev/null 2>&1\n",
    "\n",
    "#icpx -fsycl src/iso3dfd.cpp src/utils.cpp src/iso3dfd_kernels.cpp -o iso3dfd\n",
    "\n",
    "#TODO: EECE.5510\n",
    "#TODO: uncomment the following to use shared local memory in the kernel function\n",
    "#TODO: build and then run vtune again to observe the difference in performance profiling results\n",
    "icpx -fsycl -DUSE_SHARED src/iso3dfd.cpp src/utils.cpp src/iso3dfd_kernels.cpp -o iso3dfd\n",
    "\n",
    "./iso3dfd 256 256 256 8 8 8 20 sycl gpu\n",
    "\n"
   ]
  },
  {
   "cell_type": "markdown",
   "metadata": {},
   "source": [
    "**STEP 1:** Build and Run the iso3dfd app by running ▶ the command below:"
   ]
  },
  {
   "cell_type": "code",
   "execution_count": 7,
   "metadata": {},
   "outputs": [
    {
     "name": "stdout",
     "output_type": "stream",
     "text": [
      "Job has been submitted to Intel(R) DevCloud and will execute soon.\n",
      "\n",
      "Job ID                    Name             User            Time Use S Queue\n",
      "------------------------- ---------------- --------------- -------- - -----\n",
      "2326501.v-qsvr-1           ...ub-singleuser u193422         00:01:21 R jupyterhub     \n",
      "2326557.v-qsvr-1           run_iso3dfd.sh   u193422                0 Q batch          \n",
      "\n",
      "Waiting for Output ████████████████████ Done⬇\n",
      "\n",
      "########################################################################\n",
      "#      Date:           Thu 22 Jun 2023 08:39:30 PM PDT\n",
      "#    Job ID:           2326557.v-qsvr-1.aidevcloud\n",
      "#      User:           u193422\n",
      "# Resources:           cput=75:00:00,neednodes=1:gpu:ppn=2,nodes=1:gpu:ppn=2,walltime=06:00:00\n",
      "########################################################################\n",
      "\n",
      "Grid Sizes: 256 256 256\n",
      "Memory Usage: 230 MB\n",
      " ***** Running SYCL variant *****\n",
      "Initializing ... \n",
      " Running on Intel(R) UHD Graphics [0x9a60]\n",
      " The Device Max Work Group Size is : 512\n",
      " The Device Max EUCount is : 32\n",
      " The blockSize x is : 8\n",
      " The blockSize y is : 8\n",
      " Using Shared Local Memory Kernel : \n",
      "SYCL time: 546 ms\n",
      "--------------------------------------\n",
      "time         : 0.546 secs\n",
      "throughput   : 614.55 Mpts/s\n",
      "flops        : 37.4876 GFlops\n",
      "bytes        : 7.3746 GBytes/s\n",
      "\n",
      "--------------------------------------\n",
      "\n",
      "--------------------------------------\n",
      "\n",
      "########################################################################\n",
      "# End of output for job 2326557.v-qsvr-1.aidevcloud\n",
      "# Date: Thu 22 Jun 2023 08:39:48 PM PDT\n",
      "########################################################################\n",
      "\n",
      "In file included from src/iso3dfd.cpp:35:\n",
      "src/../include/device_selector.hpp:23:39: warning: 'device_selector' is deprecated: Use SYCL 2020 callable device selectors instead. [-Wdeprecated-declarations]\n",
      "class MyDeviceSelector : public sycl::device_selector {\n",
      "                                      ^\n",
      "/glob/development-tools/versions/oneapi/2023.1.2/oneapi/compiler/2023.1.0/linux/bin-llvm/../include/sycl/device_selector.hpp:34:21: note: 'device_selector' has been explicitly marked deprecated here\n",
      "class __SYCL_EXPORT __SYCL2020_DEPRECATED(\n",
      "                    ^\n",
      "/glob/development-tools/versions/oneapi/2023.1.2/oneapi/compiler/2023.1.0/linux/bin-llvm/../include/sycl/detail/defines_elementary.hpp:48:40: note: expanded from macro '__SYCL2020_DEPRECATED'\n",
      "#define __SYCL2020_DEPRECATED(message) __SYCL_DEPRECATED(message)\n",
      "                                       ^\n",
      "/glob/development-tools/versions/oneapi/2023.1.2/oneapi/compiler/2023.1.0/linux/bin-llvm/../include/sycl/detail/defines_elementary.hpp:39:38: note: expanded from macro '__SYCL_DEPRECATED'\n",
      "#define __SYCL_DEPRECATED(message) [[deprecated(message)]]\n",
      "                                     ^\n",
      "src/iso3dfd.cpp:321:11: warning: 'queue' is deprecated: SYCL 1.2.1 device selectors are deprecated. Please use SYCL 2020 device selectors instead. [-Wdeprecated-declarations]\n",
      "    queue q(device_sel, exception_handler);\n",
      "          ^\n",
      "/glob/development-tools/versions/oneapi/2023.1.2/oneapi/compiler/2023.1.0/linux/bin-llvm/../include/sycl/queue.hpp:182:3: note: 'queue' has been explicitly marked deprecated here\n",
      "  __SYCL2020_DEPRECATED(\"SYCL 1.2.1 device selectors are deprecated. Please \"\n",
      "  ^\n",
      "/glob/development-tools/versions/oneapi/2023.1.2/oneapi/compiler/2023.1.0/linux/bin-llvm/../include/sycl/detail/defines_elementary.hpp:48:40: note: expanded from macro '__SYCL2020_DEPRECATED'\n",
      "#define __SYCL2020_DEPRECATED(message) __SYCL_DEPRECATED(message)\n",
      "                                       ^\n",
      "/glob/development-tools/versions/oneapi/2023.1.2/oneapi/compiler/2023.1.0/linux/bin-llvm/../include/sycl/detail/defines_elementary.hpp:39:38: note: expanded from macro '__SYCL_DEPRECATED'\n",
      "#define __SYCL_DEPRECATED(message) [[deprecated(message)]]\n",
      "                                     ^\n",
      "2 warnings generated.\n",
      "src/iso3dfd_kernels.cpp:365:70: warning: 'local' is deprecated: use `local_accessor` instead [-Wdeprecated-declarations]\n",
      "        accessor<float, 1, access::mode::read_write, access::target::local> tab(\n",
      "                                                                     ^\n",
      "/glob/development-tools/versions/oneapi/2023.1.2/oneapi/compiler/2023.1.0/linux/bin-llvm/../include/sycl/access/access.hpp:21:9: note: 'local' has been explicitly marked deprecated here\n",
      "  local __SYCL2020_DEPRECATED(\"use `local_accessor` instead\") = 2016,\n",
      "        ^\n",
      "/glob/development-tools/versions/oneapi/2023.1.2/oneapi/compiler/2023.1.0/linux/bin-llvm/../include/sycl/detail/defines_elementary.hpp:48:40: note: expanded from macro '__SYCL2020_DEPRECATED'\n",
      "#define __SYCL2020_DEPRECATED(message) __SYCL_DEPRECATED(message)\n",
      "                                       ^\n",
      "/glob/development-tools/versions/oneapi/2023.1.2/oneapi/compiler/2023.1.0/linux/bin-llvm/../include/sycl/detail/defines_elementary.hpp:39:38: note: expanded from macro '__SYCL_DEPRECATED'\n",
      "#define __SYCL_DEPRECATED(message) [[deprecated(message)]]\n",
      "                                     ^\n",
      "1 warning generated.\n",
      "In file included from src/iso3dfd.cpp:35:\n",
      "src/../include/device_selector.hpp:23:39: warning: 'device_selector' is deprecated: Use SYCL 2020 callable device selectors instead. [-Wdeprecated-declarations]\n",
      "class MyDeviceSelector : public sycl::device_selector {\n",
      "                                      ^\n",
      "/glob/development-tools/versions/oneapi/2023.1.2/oneapi/compiler/2023.1.0/linux/bin-llvm/../include/sycl/device_selector.hpp:34:21: note: 'device_selector' has been explicitly marked deprecated here\n",
      "class __SYCL_EXPORT __SYCL2020_DEPRECATED(\n",
      "                    ^\n",
      "/glob/development-tools/versions/oneapi/2023.1.2/oneapi/compiler/2023.1.0/linux/bin-llvm/../include/sycl/detail/defines_elementary.hpp:48:40: note: expanded from macro '__SYCL2020_DEPRECATED'\n",
      "#define __SYCL2020_DEPRECATED(message) __SYCL_DEPRECATED(message)\n",
      "                                       ^\n",
      "/glob/development-tools/versions/oneapi/2023.1.2/oneapi/compiler/2023.1.0/linux/bin-llvm/../include/sycl/detail/defines_elementary.hpp:39:38: note: expanded from macro '__SYCL_DEPRECATED'\n",
      "#define __SYCL_DEPRECATED(message) [[deprecated(message)]]\n",
      "                                     ^\n",
      "src/iso3dfd.cpp:321:11: warning: 'queue' is deprecated: SYCL 1.2.1 device selectors are deprecated. Please use SYCL 2020 device selectors instead. [-Wdeprecated-declarations]\n",
      "    queue q(device_sel, exception_handler);\n",
      "          ^\n",
      "/glob/development-tools/versions/oneapi/2023.1.2/oneapi/compiler/2023.1.0/linux/bin-llvm/../include/sycl/queue.hpp:182:3: note: 'queue' has been explicitly marked deprecated here\n",
      "  __SYCL2020_DEPRECATED(\"SYCL 1.2.1 device selectors are deprecated. Please \"\n",
      "  ^\n",
      "/glob/development-tools/versions/oneapi/2023.1.2/oneapi/compiler/2023.1.0/linux/bin-llvm/../include/sycl/detail/defines_elementary.hpp:48:40: note: expanded from macro '__SYCL2020_DEPRECATED'\n",
      "#define __SYCL2020_DEPRECATED(message) __SYCL_DEPRECATED(message)\n",
      "                                       ^\n",
      "/glob/development-tools/versions/oneapi/2023.1.2/oneapi/compiler/2023.1.0/linux/bin-llvm/../include/sycl/detail/defines_elementary.hpp:39:38: note: expanded from macro '__SYCL_DEPRECATED'\n",
      "#define __SYCL_DEPRECATED(message) [[deprecated(message)]]\n",
      "                                     ^\n",
      "2 warnings generated.\n",
      "src/iso3dfd_kernels.cpp:365:70: warning: 'local' is deprecated: use `local_accessor` instead [-Wdeprecated-declarations]\n",
      "        accessor<float, 1, access::mode::read_write, access::target::local> tab(\n",
      "                                                                     ^\n",
      "/glob/development-tools/versions/oneapi/2023.1.2/oneapi/compiler/2023.1.0/linux/bin-llvm/../include/sycl/access/access.hpp:21:9: note: 'local' has been explicitly marked deprecated here\n",
      "  local __SYCL2020_DEPRECATED(\"use `local_accessor` instead\") = 2016,\n",
      "        ^\n",
      "/glob/development-tools/versions/oneapi/2023.1.2/oneapi/compiler/2023.1.0/linux/bin-llvm/../include/sycl/detail/defines_elementary.hpp:48:40: note: expanded from macro '__SYCL2020_DEPRECATED'\n",
      "#define __SYCL2020_DEPRECATED(message) __SYCL_DEPRECATED(message)\n",
      "                                       ^\n",
      "/glob/development-tools/versions/oneapi/2023.1.2/oneapi/compiler/2023.1.0/linux/bin-llvm/../include/sycl/detail/defines_elementary.hpp:39:38: note: expanded from macro '__SYCL_DEPRECATED'\n",
      "#define __SYCL_DEPRECATED(message) [[deprecated(message)]]\n",
      "                                     ^\n",
      "1 warning generated.\n",
      "Job Completed in 20 seconds.\n"
     ]
    }
   ],
   "source": [
    "! chmod 755 q; chmod 755 run_iso3dfd.sh; if [ -x \"$(command -v qsub)\" ]; then ./q run_iso3dfd.sh; else ./run_iso3dfd.sh; fi"
   ]
  },
  {
   "cell_type": "markdown",
   "metadata": {},
   "source": [
    "## Analyze performance with VTune™"
   ]
  },
  {
   "cell_type": "markdown",
   "metadata": {},
   "source": [
    "Use VTune™ command line to analyze performace on GPU vs CPU and display the summary"
   ]
  },
  {
   "cell_type": "markdown",
   "metadata": {},
   "source": [
    "### VTune™ Command Line for collecting and reporting"
   ]
  },
  {
   "cell_type": "code",
   "execution_count": 8,
   "metadata": {},
   "outputs": [
    {
     "name": "stdout",
     "output_type": "stream",
     "text": [
      "Overwriting vtune_collect.sh\n"
     ]
    }
   ],
   "source": [
    "%%writefile vtune_collect.sh\n",
    "#!/bin/bash\n",
    "source /opt/intel/inteloneapi/setvars.sh\n",
    "/bin/echo \"##\" $(whoami) is compiling SYCL_Essentials Module6 -- Intel Vtune profiler - 1 of 1 Vtune_Profiler\n",
    "#vtune\n",
    "#type=hotspots\n",
    "#type=memory-consumption\n",
    "#type=uarch-exploration\n",
    "#type=memory-access\n",
    "#type=threading\n",
    "#type=hpc-performance\n",
    "#type=system-overview\n",
    "#type=graphics-rendering\n",
    "#type=io\n",
    "#type=fpga-interaction\n",
    "#type=gpu-offload\n",
    "type=gpu-hotspots\n",
    "#type=throttling\n",
    "#type=platform-profiler\n",
    "#type=cpugpu-concurrency\n",
    "#type=tsx-exploration\n",
    "#type=tsx-hotspots\n",
    "#type=sgx-hotspots\n",
    "\n",
    "rm -r vtune_data\n",
    "\n",
    "# added by yluo\n",
    "echo \"stop prior collection if any\"\n",
    "vtune -command stop\n",
    "\n",
    "echo \"Vtune Collect $type\"\n",
    "vtune -collect $type -result-dir vtune_data $(pwd)/iso3dfd 256 256 256 8 8 8 20 sycl gpu\n",
    "\n",
    "echo \"Vtune Summary Report\"\n",
    "vtune -report summary -result-dir vtune_data -format html -report-output $(pwd)/summary.html\n",
    "\n"
   ]
  },
  {
   "cell_type": "markdown",
   "metadata": {},
   "source": [
    "### Run VTune™ to Collect Hotspots and Generate Report"
   ]
  },
  {
   "cell_type": "markdown",
   "metadata": {},
   "source": [
    "**STEP 2:** Collect VTune™ data and generate report by running ▶ the command below:"
   ]
  },
  {
   "cell_type": "code",
   "execution_count": 9,
   "metadata": {},
   "outputs": [
    {
     "name": "stdout",
     "output_type": "stream",
     "text": [
      "Job has been submitted to Intel(R) DevCloud and will execute soon.\n",
      "\n",
      "Job ID                    Name             User            Time Use S Queue\n",
      "------------------------- ---------------- --------------- -------- - -----\n",
      "2326501.v-qsvr-1           ...ub-singleuser u193422         00:01:21 R jupyterhub     \n",
      "2326559.v-qsvr-1           vtune_collect.sh u193422                0 Q batch          \n",
      "\n",
      "Waiting for Output ███████████████████████████████████████████████████████ Done⬇\n",
      "\n",
      "########################################################################\n",
      "#      Date:           Thu 22 Jun 2023 08:40:03 PM PDT\n",
      "#    Job ID:           2326559.v-qsvr-1.aidevcloud\n",
      "#      User:           u193422\n",
      "# Resources:           cput=75:00:00,neednodes=1:gpu:ppn=2,nodes=1:gpu:ppn=2,walltime=06:00:00\n",
      "########################################################################\n",
      "\n",
      " \n",
      ":: WARNING: setvars.sh has already been run. Skipping re-execution.\n",
      "   To force a re-execution of setvars.sh, use the '--force' option.\n",
      "   Using '--force' can result in excessive use of your environment variables.\n",
      "  \n",
      "usage: source setvars.sh [--force] [--config=file] [--help] [...]\n",
      "  --force        Force setvars.sh to re-run, doing so may overload environment.\n",
      "  --config=file  Customize env vars using a setvars.sh configuration file.\n",
      "  --help         Display this help message and exit.\n",
      "  ...            Additional args are passed to individual env/vars.sh scripts\n",
      "                 and should follow this script's arguments.\n",
      "  \n",
      "  Some POSIX shells do not accept command-line options. In that case, you can pass\n",
      "  command-line options via the SETVARS_ARGS environment variable. For example:\n",
      "  \n",
      "  $ SETVARS_ARGS=\"ia32 --config=config.txt\" ; export SETVARS_ARGS\n",
      "  $ . path/to/setvars.sh\n",
      "  \n",
      "  The SETVARS_ARGS environment variable is cleared on exiting setvars.sh.\n",
      "  \n",
      "## u193422 is compiling SYCL_Essentials Module6 -- Intel Vtune profiler - 1 of 1 Vtune_Profiler\n",
      "stop prior collection if any\n",
      "Vtune Collect gpu-hotspots\n",
      "Grid Sizes: 256 256 256\n",
      "Memory Usage: 230 MB\n",
      " ***** Running SYCL variant *****\n",
      "Initializing ... \n",
      " Running on Intel(R) UHD Graphics [0x9a60]\n",
      " The Device Max Work Group Size is : 512\n",
      " The Device Max EUCount is : 32\n",
      " The blockSize x is : 8\n",
      " The blockSize y is : 8\n",
      " Using Shared Local Memory Kernel : \n",
      "SYCL time: 640 ms\n",
      "--------------------------------------\n",
      "time         : 0.64 secs\n",
      "throughput   : 524.288 Mpts/s\n",
      "flops        : 31.9816 GFlops\n",
      "bytes        : 6.29146 GBytes/s\n",
      "\n",
      "--------------------------------------\n",
      "\n",
      "--------------------------------------\n",
      "Elapsed Time: 6.726s\n",
      "    GPU Time: 0.426s\n",
      "EU Array Stalled/Idle: 59.9% of Elapsed time with GPU busy\n",
      " | The percentage of time when the EUs were stalled or idle is high, which has a\n",
      " | negative impact on compute-bound applications.\n",
      " |\n",
      "    GPU L3 Bandwidth Bound: 41.9% of peak value\n",
      "\n",
      "        Hottest GPU Computing Tasks Bound by GPU L3 Bandwidth\n",
      "        Computing Task  Total Time\n",
      "        --------------  ----------\n",
      "    Occupancy: 95.5% of peak value\n",
      "\n",
      "        Hottest GPU Computing Tasks with Low Occupancy\n",
      "        Computing Task  Total Time  SIMD Width  Peak EU Threads Occupancy(%)  Occupancy(%)  SIMD Utilization(%)\n",
      "        --------------  ----------  ----------  ----------------------------  ------------  -------------------\n",
      "    Sampler Busy: 0.0% of peak value\n",
      "\n",
      "        Hottest GPU Computing Tasks with High Sampler Usage\n",
      "        Computing Task  Total Time\n",
      "        --------------  ----------\n",
      "Collection and Platform Info\n",
      "    Application Command Line: /home/u193422/eece-6540-labs/Labs/lab4/iso3dfd \"256\" \"256\" \"256\" \"8\" \"8\" \"8\" \"20\" \"sycl\" \"gpu\" \n",
      "    User Name: u193422\n",
      "    Operating System: 5.15.0-52-generic DISTRIB_ID=Ubuntu DISTRIB_RELEASE=20.04 DISTRIB_CODENAME=focal DISTRIB_DESCRIPTION=\"Ubuntu 20.04.6 LTS\"\n",
      "    Computer Name: s019-n016\n",
      "    Result Size: 73.2 MB \n",
      "    Collection start time: 03:40:19 23/06/2023 UTC\n",
      "    Collection stop time: 03:40:25 23/06/2023 UTC\n",
      "    Collector Type: Event-based sampling driver,User-mode sampling and tracing\n",
      "    CPU\n",
      "        Name: Intel(R) microarchitecture code named Tigerlake H\n",
      "        Frequency: 3.302 GHz\n",
      "        Logical CPU Count: 16\n",
      "    GPU\n",
      "        Name: Display controller: Intel Corporation Device 0x9a60\n",
      "        Vendor: Intel Corporation\n",
      "        EU Count: 32\n",
      "        Max EU Thread Count: 7\n",
      "        Max Core Frequency: 1.450 GHz\n",
      "        GPU OpenCL Info\n",
      "            Version\n",
      "            Max Compute Units: 32\n",
      "            Max Work Group Size: 512\n",
      "            Local Memory: 65.5 KB \n",
      "            SVM Capabilities\n",
      "\n",
      "If you want to skip descriptions of detected performance issues in the report,\n",
      "enter: vtune -report summary -report-knob show-issues=false -r <my_result_dir>.\n",
      "Alternatively, you may view the report in the csv format: vtune -report\n",
      "<report_name> -format=csv.\n",
      "Vtune Summary Report\n",
      "\n",
      "########################################################################\n",
      "# End of output for job 2326559.v-qsvr-1.aidevcloud\n",
      "# Date: Thu 22 Jun 2023 08:40:50 PM PDT\n",
      "########################################################################\n",
      "\n",
      "vtune: Fatal error: Cannot open the result directory \"/home/u193422/eece-6540-labs/Labs/lab4/r@@@{at}\". Please specify a valid path.\n",
      "vtune: Warning: To enable hardware event-based sampling, VTune Profiler has disabled the NMI watchdog timer. The watchdog timer will be re-enabled after collection completes.\n",
      "vtune: Collection started. To stop the collection, either press CTRL-C or enter from another console window: vtune -r /home/u193422/eece-6540-labs/Labs/lab4/vtune_data -command stop.\n",
      "vtune: Collection stopped.\n",
      "vtune: Using result path `/home/u193422/eece-6540-labs/Labs/lab4/vtune_data'\n",
      "vtune: Executing actions 19 % Resolving information for `libstdc++.so.6.0.28'  \n",
      "vtune: Warning: Cannot locate debugging information for file `/usr/lib/x86_64-linux-gnu/libpthread-2.31.so'.\n",
      "vtune: Warning: Cannot locate debugging information for file `/usr/lib/x86_64-linux-gnu/libstdc++.so.6.0.28'.\n",
      "vtune: Executing actions 19 % Resolving information for `nfs'                  \n",
      "vtune: Warning: Cannot locate debugging information for file `/lib/modules/5.15.0-52-generic/kernel/fs/nfs/nfs.ko'.\n",
      "vtune: Warning: Cannot read load addresses of sections from `/sys/module/nfs/sections'. This may affect the correctness of symbol resolution for `nfs'. Make sure this directory exists and all files in this directory have read permissions.\n",
      "vtune: Warning: Cannot locate file `falcon_lsm_serviceable.ko'.\n",
      "vtune: Executing actions 19 % Resolving information for `falcon_lsm_serviceable\n",
      "vtune: Warning: Cannot locate file `falcon_kal.ko'.\n",
      "vtune: Executing actions 19 % Resolving information for `falcon_kal'           \n",
      "vtune: Warning: Cannot locate file `falcon_lsm_pinned_14712.ko'.\n",
      "vtune: Executing actions 19 % Resolving information for `libc-2.31.so'         \n",
      "vtune: Warning: Cannot locate debugging information for file `/usr/lib/x86_64-linux-gnu/libc-2.31.so'.\n",
      "vtune: Executing actions 19 % Resolving information for `nf_conntrack'         \n",
      "vtune: Warning: Cannot locate debugging information for file `/home/u193422/eece-6540-labs/Labs/lab4/vtune_data/archive/binaries/f7255f1606cb5a9b.clbin/97aafd3b14caf34569864cfe6aa7facc/f7255f1606cb5a9b.clbin'.\n",
      "vtune: Executing actions 19 % Resolving information for `libpi_level_zero.so'  \n",
      "vtune: Warning: Cannot locate debugging information for file `/lib/modules/5.15.0-52-generic/kernel/net/netfilter/nf_conntrack.ko'.\n",
      "vtune: Warning: Cannot read load addresses of sections from `/sys/module/nf_conntrack/sections'. This may affect the correctness of symbol resolution for `nf_conntrack'. Make sure this directory exists and all files in this directory have read permissions.\n",
      "vtune: Executing actions 20 % Resolving information for `libze_intel_gpu.so.1.3\n",
      "vtune: Warning: Cannot locate debugging information for file `/usr/lib/x86_64-linux-gnu/libze_intel_gpu.so.1.3.24595.35'.\n",
      "vtune: Warning: Cannot locate file `falcon_lsm_pinned_14713.ko'.\n",
      "vtune: Executing actions 20 % Resolving information for `falcon_lsm_pinned_1471\n",
      "vtune: Warning: Cannot locate file `falcon_lsm_pinned_15309.ko'.\n",
      "vtune: Executing actions 20 % Resolving information for `falcon_lsm_pinned_1530\n",
      "vtune: Warning: Cannot locate debugging information for file `/lib/modules/5.15.0-52-generic/kernel/drivers/gpu/drm/i915/i915.ko'.\n",
      "vtune: Executing actions 20 % Resolving information for `libpthread.so.0'      \n",
      "vtune: Warning: Cannot locate debugging information for file `/lib/x86_64-linux-gnu/libpthread.so.0'.\n",
      "vtune: Executing actions 20 % Resolving information for `libgcc_s.so.1'        \n",
      "vtune: Warning: Cannot locate debugging information for file `/usr/lib/x86_64-linux-gnu/libgcc_s.so.1'.\n",
      "vtune: Executing actions 20 % Resolving information for `libc++abi.so'         \n",
      "vtune: Warning: Cannot locate file `vmlinux'.\n",
      "vtune: Executing actions 20 % Resolving information for `libtpsstool.so'       \n",
      "vtune: Warning: Cannot locate debugging information for file `/usr/lib/x86_64-linux-gnu/libigc.so.1.0.12504.6'.\n",
      "vtune: Warning: Cannot locate debugging information for file `/glob/development-tools/versions/oneapi/2023.1.2/oneapi/vtune/2023.1.0/lib64/libtpsstool.so'.\n",
      "vtune: Warning: Cannot locate debugging information for the Linux kernel. Source-level analysis will not be possible. Function-level analysis will be limited to kernel symbol tables. See the Enabling Linux Kernel Analysis topic in the product online help for instructions.\n",
      "vtune: Executing actions 20 % Resolving information for `libze_intel_gpu.so.1' \n",
      "vtune: Warning: Cannot locate debugging information for file `/lib/x86_64-linux-gnu/libze_intel_gpu.so.1'.\n",
      "vtune: Executing actions 21 % Resolving information for `[vdso]'               \n",
      "vtune: Warning: Cannot locate file `sep5.ko'.\n",
      "vtune: Executing actions 21 % Resolving information for `libc.so.6'            \n",
      "vtune: Warning: Cannot locate debugging information for file `/lib/x86_64-linux-gnu/libc.so.6'.\n",
      "vtune: Executing actions 21 % Resolving information for `libigdrcl.so'         \n",
      "vtune: Warning: Cannot locate debugging information for file `/usr/lib/x86_64-linux-gnu/intel-opencl/libigdrcl.so'.\n",
      "vtune: Warning: Cannot locate debugging information for file `/usr/lib/x86_64-linux-gnu/intel-opencl/libigdrcl.so'.\n",
      "vtune: Executing actions 21 % Resolving information for `libc++.so'            \n",
      "vtune: Warning: Cannot locate file `falcon_lsm_pinned_15110.ko'.\n",
      "vtune: Executing actions 21 % Resolving information for `nfsv4'                \n",
      "vtune: Warning: Cannot locate debugging information for file `/lib/modules/5.15.0-52-generic/kernel/fs/nfs/nfsv4.ko'.\n",
      "vtune: Warning: Cannot read load addresses of sections from `/sys/module/nfsv4/sections'. This may affect the correctness of symbol resolution for `nfsv4'. Make sure this directory exists and all files in this directory have read permissions.\n",
      "vtune: Executing actions 21 % Resolving information for `ld-2.31.so'           \n",
      "vtune: Warning: Cannot locate debugging information for file `/usr/lib/x86_64-linux-gnu/ld-2.31.so'.\n",
      "vtune: Warning: Cannot locate debugging information for file `/home/u193422/eece-6540-labs/Labs/lab4/vtune_data/archive/binaries/af962c7429beee5a.clbin/97aafd3b14caf34569864cfe6aa7facc/af962c7429beee5a.clbin'.\n",
      "vtune: Executing actions 22 % Resolving information for `ld-2.31.so'           \n",
      "vtune: Warning: Cannot locate file `falcon_lsm_pinned_14604.ko'.\n",
      "vtune: Executing actions 22 % Resolving information for `sunrpc'               \n",
      "vtune: Warning: Cannot locate file `falcon_lsm_pinned_14812.ko'.\n",
      "vtune: Executing actions 22 % Resolving information for `libintelocl.so.2023.15\n",
      "vtune: Warning: Cannot locate debugging information for file `/lib/modules/5.15.0-52-generic/kernel/net/sunrpc/sunrpc.ko'.\n",
      "vtune: Warning: Cannot read load addresses of sections from `/sys/module/sunrpc/sections'. This may affect the correctness of symbol resolution for `sunrpc'. Make sure this directory exists and all files in this directory have read permissions.\n",
      "vtune: Executing actions 22 % Resolving information for `linker'               \n",
      "vtune: Warning: Cannot locate file `falcon_lsm_pinned_15003.ko'.\n",
      "vtune: Executing actions 22 % Resolving information for `libittnotify_collector\n",
      "vtune: Warning: Cannot locate debugging information for file `/usr/lib/x86_64-linux-gnu/libdl-2.31.so'.\n",
      "vtune: Warning: Cannot locate debugging information for file `/glob/development-tools/versions/oneapi/2023.1.2/oneapi/vtune/2023.1.0/lib64/runtime/libittnotify_collector.so'.\n",
      "vtune: Warning: Cannot locate debugging information for file `/glob/development-tools/versions/oneapi/2023.1.2/oneapi/vtune/2023.1.0/lib64/runtime/libittnotify_collector.so'.\n",
      "vtune: Executing actions 100 % done                                            \n",
      "vtune: Using result path `/home/u193422/eece-6540-labs/Labs/lab4/vtune_data'\n",
      "vtune: Executing actions 100 % done                                            \n",
      "Job Completed in 55 seconds.\n"
     ]
    }
   ],
   "source": [
    "! chmod 755 vtune_collect.sh; if [ -x \"$(command -v qsub)\" ]; then ./q vtune_collect.sh; else ./vtune_collect.sh; fi"
   ]
  },
  {
   "cell_type": "markdown",
   "metadata": {},
   "source": [
    "## Display VTune™ Summary"
   ]
  },
  {
   "cell_type": "markdown",
   "metadata": {},
   "source": [
    "Display VTune™ summary report generated in html format"
   ]
  },
  {
   "cell_type": "markdown",
   "metadata": {},
   "source": [
    "### Display VTune™ Report for GPU"
   ]
  },
  {
   "cell_type": "markdown",
   "metadata": {},
   "source": [
    "**STEP 3:** Display VTune™ summary report by running ▶ the command below "
   ]
  },
  {
   "cell_type": "code",
   "execution_count": 10,
   "metadata": {},
   "outputs": [
    {
     "data": {
      "text/html": [
       "\n",
       "        <iframe\n",
       "            width=\"960\"\n",
       "            height=\"600\"\n",
       "            src=\"summary.html\"\n",
       "            frameborder=\"0\"\n",
       "            allowfullscreen\n",
       "            \n",
       "        ></iframe>\n",
       "        "
      ],
      "text/plain": [
       "<IPython.lib.display.IFrame at 0x7fe2a0a56a90>"
      ]
     },
     "execution_count": 10,
     "metadata": {},
     "output_type": "execute_result"
    }
   ],
   "source": [
    "from IPython.display import IFrame\n",
    "IFrame(src='summary.html', width=960, height=600)"
   ]
  },
  {
   "cell_type": "markdown",
   "metadata": {
    "jp-MarkdownHeadingCollapsed": true,
    "tags": []
   },
   "source": [
    "### <font color='red'>Question</font>\n",
    "Change the script in Build and Run to add \"-DUSE_SHARED\" flag such that the kernel function will use local shared memory. Run through the build, run, profile process again. Observe the difference in profiling results. Capture and explain your findings in your report."
   ]
  },
  {
   "cell_type": "markdown",
   "metadata": {},
   "source": [
    "## Summary"
   ]
  },
  {
   "cell_type": "markdown",
   "metadata": {},
   "source": [
    "VTune™ command line is useful for quick analysis of SYCL application to get performance metric and tune applications."
   ]
  }
 ],
 "metadata": {
  "kernelspec": {
   "display_name": "Python 3 (Intel® oneAPI 2023.1)",
   "language": "python",
   "name": "c009-intel_distribution_of_python_3_oneapi-beta05-python"
  },
  "language_info": {
   "codemirror_mode": {
    "name": "ipython",
    "version": 3
   },
   "file_extension": ".py",
   "mimetype": "text/x-python",
   "name": "python",
   "nbconvert_exporter": "python",
   "pygments_lexer": "ipython3",
   "version": "3.9.16"
  },
  "toc": {
   "base_numbering": 1,
   "nav_menu": {},
   "number_sections": true,
   "sideBar": true,
   "skip_h1_title": false,
   "title_cell": "Table of Contents",
   "title_sidebar": "Contents",
   "toc_cell": false,
   "toc_position": {
    "height": "calc(100% - 180px)",
    "left": "10px",
    "top": "150px",
    "width": "310.667px"
   },
   "toc_section_display": true,
   "toc_window_display": true
  }
 },
 "nbformat": 4,
 "nbformat_minor": 4
}
